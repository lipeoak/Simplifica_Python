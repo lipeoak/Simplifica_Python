{
  "nbformat": 4,
  "nbformat_minor": 0,
  "metadata": {
    "colab": {
      "provenance": [],
      "include_colab_link": true
    },
    "kernelspec": {
      "name": "python3",
      "display_name": "Python 3"
    },
    "language_info": {
      "name": "python"
    }
  },
  "cells": [
    {
      "cell_type": "markdown",
      "metadata": {
        "id": "view-in-github",
        "colab_type": "text"
      },
      "source": [
        "<a href=\"https://colab.research.google.com/github/lipeoak/Simplifica_Python/blob/main/Fundamentos_de_Python_Exercicio02_Aumento_Salario.ipynb\" target=\"_parent\"><img src=\"https://colab.research.google.com/assets/colab-badge.svg\" alt=\"Open In Colab\"/></a>"
      ]
    },
    {
      "cell_type": "markdown",
      "source": [
        "# Simplifica Python\n",
        "---\n",
        "🤖 **Exercício  - Cálculo de Aumento:**\n",
        "\n",
        "A empresa Simplifica Treinamentos resolveu dar um aumento de salário aos seus colaboradores e lhe contrataram para desenvolver o programa que calculará os reajustes.\n",
        "\n",
        "Faça um programa que recebe o salário de um colaborador e o reajuste segundo o seguinte critério, baseado no salário atual:\n",
        "\n",
        "\n",
        "* salários até R$ 1.280,00 (incluindo) : aumento de 20%\n",
        "\n",
        "* salários entre R$ 1.280,00 e R$ 1.700,00 : aumento de 15%\n",
        "\n",
        "* salários entre R$ 1.700,00 e R$ 2.500,00 : aumento de 10%\n",
        "\n",
        "* salários de R$ 2.500,00 em diante : aumento de 5%\n",
        "\n",
        "\n",
        "> Após o aumento ser realizado, informe na tela:\n",
        "\n",
        "* salário antes do reajuste;\n",
        "\n",
        "* percentual de aumento aplicado;\n",
        "* valor do aumento;\n",
        "* novo salário após o aumento."
      ],
      "metadata": {
        "id": "2JZT4w46vTG6"
      }
    },
    {
      "cell_type": "code",
      "source": [
        "\n",
        "\n",
        "\n",
        "\n",
        "\n",
        "\n"
      ],
      "metadata": {
        "id": "T8nLToOm29yH"
      },
      "execution_count": null,
      "outputs": []
    }
  ]
}