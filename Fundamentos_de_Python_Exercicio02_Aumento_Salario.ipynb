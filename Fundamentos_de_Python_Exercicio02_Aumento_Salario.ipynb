{
  "nbformat": 4,
  "nbformat_minor": 0,
  "metadata": {
    "colab": {
      "provenance": [],
      "include_colab_link": true
    },
    "kernelspec": {
      "name": "python3",
      "display_name": "Python 3"
    },
    "language_info": {
      "name": "python"
    }
  },
  "cells": [
    {
      "cell_type": "markdown",
      "metadata": {
        "id": "view-in-github",
        "colab_type": "text"
      },
      "source": [
        "<a href=\"https://colab.research.google.com/github/lipeoak/Simplifica_Python/blob/main/Fundamentos_de_Python_Exercicio02_Aumento_Salario.ipynb\" target=\"_parent\"><img src=\"https://colab.research.google.com/assets/colab-badge.svg\" alt=\"Open In Colab\"/></a>"
      ]
    },
    {
      "cell_type": "markdown",
      "source": [
        "# Simplifica Python\n",
        "---\n",
        "🤖 **Exercício  - Cálculo de Aumento:**\n",
        "\n",
        "A empresa Simplifica Treinamentos resolveu dar um aumento de salário aos seus colaboradores e lhe contrataram para desenvolver o programa que calculará os reajustes.\n",
        "\n",
        "Faça um programa que recebe o salário de um colaborador e o reajuste segundo o seguinte critério, baseado no salário atual:\n",
        "\n",
        "\n",
        "* salários até R$ 1.280,00 (incluindo) : aumento de 20%\n",
        "\n",
        "* salários entre R$ 1.280,00 e R$ 1.700,00 : aumento de 15%\n",
        "\n",
        "* salários entre R$ 1.700,00 e R$ 2.500,00 : aumento de 10%\n",
        "\n",
        "* salários de R$ 2.500,00 em diante : aumento de 5%\n",
        "\n",
        "\n",
        "> Após o aumento ser realizado, informe na tela:\n",
        "\n",
        "* salário antes do reajuste;\n",
        "\n",
        "* percentual de aumento aplicado;\n",
        "* valor do aumento;\n",
        "* novo salário após o aumento."
      ],
      "metadata": {
        "id": "2JZT4w46vTG6"
      }
    },
    {
      "cell_type": "code",
      "source": [
        "#entrada: salario atual\n",
        "#saída: salário antes do reajuste, percentual aplicado, valor do aumento, novo salário após aumento\n",
        "\n",
        "salario_atual = float(input(\"Informe o salário do empregado: \"))\n",
        "\n",
        "if salario_atual <= 1280:\n",
        "  percentual = 20\n",
        "  valor_aumento = salario_atual*percentual/100\n",
        "  novo_salario = salario_atual+valor_aumento\n",
        "elif salario_atual <= 1700:\n",
        "  percentual = 15\n",
        "  valor_aumento = salario_atual*percentual/100\n",
        "  novo_salario = salario_atual+valor_aumento\n",
        "elif salario_atual < 2500:\n",
        "  percentual = 10\n",
        "  valor_aumento = salario_atual*percentual/100\n",
        "  novo_salario = salario_atual+valor_aumento\n",
        "else:\n",
        "  percentual = 5\n",
        "  valor_aumento = salario_atual*percentual/100\n",
        "  novo_salario = salario_atual+valor_aumento\n",
        "print(f\"Salário antes do reajuste: R$ {salario_atual:.2f}\")\n",
        "print(f\"Percentual de aumento aplicado: {percentual}%\")\n",
        "print(f\"Valor do aumento: R$ {valor_aumento:.2f}\")\n",
        "print(f'Novo salário: R$ {novo_salario:.2f}')\n",
        "\n",
        "\n",
        "\n",
        "\n",
        "\n"
      ],
      "metadata": {
        "id": "T8nLToOm29yH",
        "colab": {
          "base_uri": "https://localhost:8080/"
        },
        "outputId": "84cc9829-c516-4f76-aba3-d7d7aa0e3f8a"
      },
      "execution_count": 9,
      "outputs": [
        {
          "output_type": "stream",
          "name": "stdout",
          "text": [
            "Informe o salário do empregado: 2500\n",
            "Salário antes do reajuste: R$ 2500.00\n",
            "Percentual de aumento aplicado: 5%\n",
            "Valor do aumento: R$ 125.00\n",
            "Novo salário: R$ 2625.00\n"
          ]
        }
      ]
    }
  ]
}