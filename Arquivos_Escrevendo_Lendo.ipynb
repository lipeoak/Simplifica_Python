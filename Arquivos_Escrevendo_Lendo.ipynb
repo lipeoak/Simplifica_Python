{
  "nbformat": 4,
  "nbformat_minor": 0,
  "metadata": {
    "colab": {
      "provenance": [],
      "include_colab_link": true
    },
    "kernelspec": {
      "name": "python3",
      "display_name": "Python 3"
    },
    "language_info": {
      "name": "python"
    }
  },
  "cells": [
    {
      "cell_type": "markdown",
      "metadata": {
        "id": "view-in-github",
        "colab_type": "text"
      },
      "source": [
        "<a href=\"https://colab.research.google.com/github/lipeoak/Simplifica_Python/blob/Fundamentos_de_Python/Arquivos_Escrevendo_Lendo.ipynb\" target=\"_parent\"><img src=\"https://colab.research.google.com/assets/colab-badge.svg\" alt=\"Open In Colab\"/></a>"
      ]
    },
    {
      "cell_type": "markdown",
      "source": [
        "# Simplifica Python\n",
        "---\n",
        "🤖  **Arquivos em Python**\n",
        "\n",
        "Este módulo tem como objetivo introduzir os conceitos básicos de manipulação de arquivos em Python, incluindo leitura, escrita e manipulação de arquivos de texto.\n",
        "\n",
        "✅ Abrir e Fechar arquivo\n",
        "\n",
        "✅ Exibir conteúdo de um arquivo\n",
        "\n",
        "✅ Modos de Leitura\n",
        "\n",
        "✅ Manipulação de Arquivos de Texto"
      ],
      "metadata": {
        "id": "2JZT4w46vTG6"
      }
    },
    {
      "cell_type": "markdown",
      "source": [
        "*** Lendo, Escevendo e pesquisando os conteúdos dentro de um arquivo***\n"
      ],
      "metadata": {
        "id": "qlTKcQzU6mFl"
      }
    },
    {
      "cell_type": "code",
      "source": [
        "arquivo = open(\"simplifica.txt\", 'a+', encoding='utf-8')\n",
        "arquivo.write(\"Sauer\\n\")\n",
        "arquivo.close()\n",
        "\n",
        "palavra = \"sauer\"\n",
        "contador = 0\n",
        "\n",
        "arquivo = open(\"simplifica.txt\", 'r', encoding='utf-8', errors='replace')\n",
        "for linha in arquivo:\n",
        "  if palavra in linha:\n",
        "    contador = contador +1\n",
        "\n",
        "print(f\"a palavra {palavra} apareceu {contador} vezes no arquivo\")\n",
        "\n",
        "arquivo.close()\n",
        "\n",
        "\n",
        "\n",
        "\n",
        "\n",
        "\n",
        "\n"
      ],
      "metadata": {
        "id": "HGmtZ4MHaPOu",
        "colab": {
          "base_uri": "https://localhost:8080/"
        },
        "outputId": "b1348a58-87c9-49d7-eea6-a86f58206bed"
      },
      "execution_count": null,
      "outputs": [
        {
          "output_type": "stream",
          "name": "stdout",
          "text": [
            "a palavra sauer apareceu 3 vezes no arquivo\n"
          ]
        }
      ]
    },
    {
      "cell_type": "code",
      "source": [
        "arquivo = open(\"simplifica.txt\", \"a+\", encoding=\"utf-8\", errors=\"replace\")\n",
        "arquivo.write(\"Felipe\\n\")\n",
        "arquivo.close()\n",
        "#para usar a busca o arquivo deve ser aberto em modo leitura\n",
        "arquivo = open('simplifica.txt','r',encoding='utf-8',errors='replace')\n",
        "palavra = 'Felipe'\n",
        "contador = 0\n",
        "for linha in arquivo:\n",
        "  if palavra in linha:\n",
        "    contador=contador+1\n",
        "\n",
        "print(contador)"
      ],
      "metadata": {
        "colab": {
          "base_uri": "https://localhost:8080/"
        },
        "id": "w5fSKJdKWRHX",
        "outputId": "b7130a9c-0bd8-4483-e1b9-d1f90db3e3a2"
      },
      "execution_count": 14,
      "outputs": [
        {
          "output_type": "stream",
          "name": "stdout",
          "text": [
            "8\n"
          ]
        }
      ]
    },
    {
      "cell_type": "markdown",
      "source": [
        "✅ Com cada linha de código em Python, você está construindo a fundação do seu futuro digital. Mantenha-se focado, persistente e curioso, pois cada desafio superado é um passo em direção ao seu sucesso como programador..\n",
        "\n",
        "[Simplifica Treinamentos](https://simplificatreinamentos.com.br)"
      ],
      "metadata": {
        "id": "5FGu-NCiaS0r"
      }
    }
  ]
}