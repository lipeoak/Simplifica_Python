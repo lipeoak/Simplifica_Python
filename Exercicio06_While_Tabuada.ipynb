{
  "nbformat": 4,
  "nbformat_minor": 0,
  "metadata": {
    "colab": {
      "provenance": [],
      "include_colab_link": true
    },
    "kernelspec": {
      "name": "python3",
      "display_name": "Python 3"
    },
    "language_info": {
      "name": "python"
    }
  },
  "cells": [
    {
      "cell_type": "markdown",
      "metadata": {
        "id": "view-in-github",
        "colab_type": "text"
      },
      "source": [
        "<a href=\"https://colab.research.google.com/github/lipeoak/Simplifica_Python/blob/Fundamentos_de_Python/Fundamentos_de_Python_003_Exercicio_While_Tabuada.ipynb\" target=\"_parent\"><img src=\"https://colab.research.google.com/assets/colab-badge.svg\" alt=\"Open In Colab\"/></a>"
      ]
    },
    {
      "cell_type": "markdown",
      "source": [
        "# Simplifica Python\n",
        "---\n",
        "🤖 **Exercício 02 usando (while)**\n",
        "\n",
        "\n",
        "\n",
        "Programa que exibe a tabuada de um número fornecido pelo usuário\n"
      ],
      "metadata": {
        "id": "2JZT4w46vTG6"
      }
    },
    {
      "cell_type": "code",
      "source": [
        "numero = int(input(\"Qual número você deseja saber a tabuada? \"))\n",
        "contador = 1\n",
        "print(f\"Monstrando a tabuada do {numero}\")\n",
        "while contador <= 10:\n",
        "  resultado = numero * contador\n",
        "  print(f\"\\n{numero} X {contador} = {resultado}\")\n",
        "  contador += 1"
      ],
      "metadata": {
        "id": "jxHZZNG8vpWh",
        "colab": {
          "base_uri": "https://localhost:8080/"
        },
        "outputId": "873faab1-1891-495b-c4b7-7c82d205b3ee"
      },
      "execution_count": 5,
      "outputs": [
        {
          "output_type": "stream",
          "name": "stdout",
          "text": [
            "Qual número você deseja saber a tabuada? 7\n",
            "Monstrando a tabuada do 7\n",
            "\n",
            "7 X 1 = 7\n",
            "\n",
            "7 X 2 = 14\n",
            "\n",
            "7 X 3 = 21\n",
            "\n",
            "7 X 4 = 28\n",
            "\n",
            "7 X 5 = 35\n",
            "\n",
            "7 X 6 = 42\n",
            "\n",
            "7 X 7 = 49\n",
            "\n",
            "7 X 8 = 56\n",
            "\n",
            "7 X 9 = 63\n",
            "\n",
            "7 X 10 = 70\n"
          ]
        }
      ]
    },
    {
      "cell_type": "markdown",
      "source": [
        "---\n",
        "\n",
        "✅ Se surgirem mais perguntas ou se precisarem de apoio em seus projetos, não hesitem em nos chamar. Estamos à disposição para oferecer assistência.\n",
        "\n",
        "[Simplifica Treinamentos](https://www.simplificatreinamentos.com.br/)"
      ],
      "metadata": {
        "id": "7HKuMeFognpU"
      }
    }
  ]
}
