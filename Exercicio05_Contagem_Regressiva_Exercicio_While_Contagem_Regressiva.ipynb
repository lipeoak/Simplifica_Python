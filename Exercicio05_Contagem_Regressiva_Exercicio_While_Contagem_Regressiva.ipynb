{
  "nbformat": 4,
  "nbformat_minor": 0,
  "metadata": {
    "colab": {
      "provenance": [],
      "include_colab_link": true
    },
    "kernelspec": {
      "name": "python3",
      "display_name": "Python 3"
    },
    "language_info": {
      "name": "python"
    }
  },
  "cells": [
    {
      "cell_type": "markdown",
      "metadata": {
        "id": "view-in-github",
        "colab_type": "text"
      },
      "source": [
        "<a href=\"https://colab.research.google.com/github/lipeoak/Simplifica_Python/blob/main/Fundamentos_de_Python_Exercicio04_Contagem_Regressiva_Exercicio_While_Contagem_Regressiva.ipynb\" target=\"_parent\"><img src=\"https://colab.research.google.com/assets/colab-badge.svg\" alt=\"Open In Colab\"/></a>"
      ]
    },
    {
      "cell_type": "markdown",
      "source": [
        "# Simplifica Python\n",
        "---\n",
        "🤖 **Exercício 01 usando (while)** - resolução do aluno\n",
        "\n",
        "\n",
        "\n",
        "Programa para gerar uma contagem regressiva de 10 até 1\n"
      ],
      "metadata": {
        "id": "2JZT4w46vTG6"
      }
    },
    {
      "cell_type": "code",
      "source": [
        "i = 10\n",
        "while i>=1:\n",
        "  print(f'Contagem regressiva: {i}')\n",
        "  if i == 1:\n",
        "    print('Fim da contagem regressiva.')\n",
        "  i -= 1\n"
      ],
      "metadata": {
        "id": "jxHZZNG8vpWh",
        "colab": {
          "base_uri": "https://localhost:8080/"
        },
        "outputId": "5fff601d-6aed-48a4-c6ec-a117119bae28"
      },
      "execution_count": 5,
      "outputs": [
        {
          "output_type": "stream",
          "name": "stdout",
          "text": [
            "Contagem regressiva: 10\n",
            "Contagem regressiva: 9\n",
            "Contagem regressiva: 8\n",
            "Contagem regressiva: 7\n",
            "Contagem regressiva: 6\n",
            "Contagem regressiva: 5\n",
            "Contagem regressiva: 4\n",
            "Contagem regressiva: 3\n",
            "Contagem regressiva: 2\n",
            "Contagem regressiva: 1\n",
            "Fim da contagem regressiva.\n"
          ]
        }
      ]
    }
  ]
}
