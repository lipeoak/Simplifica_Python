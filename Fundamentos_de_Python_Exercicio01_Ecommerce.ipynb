{
  "nbformat": 4,
  "nbformat_minor": 0,
  "metadata": {
    "colab": {
      "provenance": [],
      "include_colab_link": true
    },
    "kernelspec": {
      "name": "python3",
      "display_name": "Python 3"
    },
    "language_info": {
      "name": "python"
    }
  },
  "cells": [
    {
      "cell_type": "markdown",
      "metadata": {
        "id": "view-in-github",
        "colab_type": "text"
      },
      "source": [
        "<a href=\"https://colab.research.google.com/github/lipeoak/Simplifica_Python/blob/main/Fundamentos_de_Python_Exercicio01_Ecommerce.ipynb\" target=\"_parent\"><img src=\"https://colab.research.google.com/assets/colab-badge.svg\" alt=\"Open In Colab\"/></a>"
      ]
    },
    {
      "cell_type": "markdown",
      "source": [
        "# Simplifica Python\n",
        "---\n",
        "🤖 **Exercício 01 - e-commerce:**\n",
        "\n",
        "Vamos considerar um cenário em que um sistema de e-commerce verifica as condições de elegibilidade para aplicar descontos em uma compra.\n",
        "\n",
        "\n",
        "Regras para aplicar desconto:\n",
        "*   (10%) - Comprar mais de um produto na loja e o valor total ser acima de R$100.00\n",
        "\n",
        "OU\n",
        "*   (10%) - Ter o coupon de desconto: **DESC10**\n",
        "\n",
        "Os descontos não são acumulativos, ou seja, aplica-se apenas em uma das regras acima.\n"
      ],
      "metadata": {
        "id": "2JZT4w46vTG6"
      }
    },
    {
      "cell_type": "code",
      "source": [
        "valor_total = 180.0\n",
        "quantidade_itens = 1\n",
        "coupon_desconto = \"DESC100\"\n",
        "\n",
        "if valor_total >=100 and quantidade_itens >1:\n",
        "  print(\"Parabéns, você ganhou 10% de desconto comprando 2 produtos ou mais > 100 reais\")\n",
        "  valor_desconto = valor_total * 0.10\n",
        "  valor_final = valor_total - valor_desconto\n",
        "  print(f\"Valor do desconto: R$ {valor_desconto:.2f}\")\n",
        "  print(f\"Valor a pagar: R$ {valor_final:.2f}\")\n",
        "elif coupon_desconto == \"DESC10\":\n",
        "  print(\"Parabéns, você ganhou 10% de desconto usando coupon\")\n",
        "  valor_desconto = valor_total * 0.10\n",
        "  valor_final = valor_total - valor_desconto\n",
        "  print(f\"Valor do desconto: R$ {valor_desconto:.2f}\")\n",
        "  print(f\"Valor a pagar: R$ {valor_final:.2f}\")\n",
        "else:\n",
        "  print(f\"Sem descontos! Total da compra: R$ {valor_total:.2f}\")\n",
        "\n"
      ],
      "metadata": {
        "id": "T8nLToOm29yH",
        "colab": {
          "base_uri": "https://localhost:8080/"
        },
        "outputId": "82836eeb-223f-499e-a444-5dfa64d32e79"
      },
      "execution_count": null,
      "outputs": [
        {
          "output_type": "stream",
          "name": "stdout",
          "text": [
            "Sem descontos! Total da compra: R$ 180.00\n"
          ]
        }
      ]
    },
    {
      "cell_type": "markdown",
      "source": [
        "---\n",
        "✅ Se tiverem dúvidas adicionais ou precisarem de assistência com seus projetos, não hesitem em entrar em contato. Estou aqui para ajudar.\n",
        "\n",
        "[Simplifica Treinamentos](https://www.simplificatreinamentos.com.br/)"
      ],
      "metadata": {
        "id": "7HKuMeFognpU"
      }
    }
  ]
}