{
  "nbformat": 4,
  "nbformat_minor": 0,
  "metadata": {
    "colab": {
      "provenance": [],
      "include_colab_link": true
    },
    "kernelspec": {
      "name": "python3",
      "display_name": "Python 3"
    },
    "language_info": {
      "name": "python"
    }
  },
  "cells": [
    {
      "cell_type": "markdown",
      "metadata": {
        "id": "view-in-github",
        "colab_type": "text"
      },
      "source": [
        "<a href=\"https://colab.research.google.com/github/lipeoak/Simplifica_Python/blob/main/Fundamentos_de_Python_Exercicio01_Ecommerce.ipynb\" target=\"_parent\"><img src=\"https://colab.research.google.com/assets/colab-badge.svg\" alt=\"Open In Colab\"/></a>"
      ]
    },
    {
      "cell_type": "markdown",
      "source": [
        "# Simplifica Python\n",
        "---\n",
        "🤖 **Exercício 01 - e-commerce:**\n",
        "\n",
        "Vamos considerar um cenário em que um sistema de e-commerce verifica as condições de elegibilidade para aplicar descontos em uma compra.\n",
        "\n",
        "\n",
        "Regras para aplicar desconto:\n",
        "*   (10%) - Comprar mais de um produto na loja e o valor total ser acima de R$100.00\n",
        "\n",
        "OU\n",
        "*   (10%) - Ter o coupon de desconto: **DESC10**\n",
        "\n",
        "Os descontos não são acumulativos, ou seja, aplica-se apenas em uma das regras acima.\n"
      ],
      "metadata": {
        "id": "2JZT4w46vTG6"
      }
    },
    {
      "cell_type": "code",
      "source": [
        "valor_compra = float(input(\"Qual o valor total da compra? \"))\n",
        "qtd_itens = int(input(\"Qual a quantidade de itens comprados? \"))\n",
        "cupom = input(\"Informe o cupom a ser aplicado: \")\n",
        "\n",
        "if valor_compra >100 and qtd_itens >=2:\n",
        "  print(\"Condição para desconto alcançada: Mais de 1 item e compra acima de R$ 100,00\")\n",
        "  desconto_aplicado = valor_compra*0.1\n",
        "  valor_compra = valor_compra*0.9\n",
        "  print(f\"Desconto aplicado: {desconto_aplicado:.2f}\")\n",
        "  print(f\"Valor sem o desconto: {desconto_aplicado*10:.2f}\")\n",
        "  print(f\"Valor total da compra: {valor_compra:.2f}\")\n",
        "elif cupom == \"DESC10\":\n",
        "  print(\"Condição para desconto alcançada: Cupom 'DESC10' aplicado.\")\n",
        "  desconto_aplicado = valor_compra*0.1\n",
        "  valor_compra = valor_compra*0.9\n",
        "  print(f\"Desconto aplicado: {desconto_aplicado:.2f}\")\n",
        "  print(f\"Valor sem o desconto: {desconto_aplicado*10:.2f}\")\n",
        "  print(f\"Valor total da compra: {valor_compra:.2f}\")\n",
        "else:\n",
        "  print(\"A compra não é elegível a descontos\")\n",
        "  print(f\"Valor total da compra: {valor_compra:.2f}\")\n",
        "\n"
      ],
      "metadata": {
        "id": "T8nLToOm29yH",
        "colab": {
          "base_uri": "https://localhost:8080/"
        },
        "outputId": "1cf8ed95-148e-4657-8ef9-711976d6c46d"
      },
      "execution_count": 4,
      "outputs": [
        {
          "output_type": "stream",
          "name": "stdout",
          "text": [
            "Qual o valor total da compra? 1000\n",
            "Qual a quantidade de itens comprados? 1\n",
            "Informe o cupom a ser aplicado: DESC10\n",
            "Condição para desconto alcançada: Cupom 'DESC10' aplicado.\n",
            "Desconto aplicado: 100.00\n",
            "Valor sem o desconto: 1000.00\n",
            "Valor total da compra: 900.00\n"
          ]
        }
      ]
    }
  ]
}