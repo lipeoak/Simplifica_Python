{
  "nbformat": 4,
  "nbformat_minor": 0,
  "metadata": {
    "colab": {
      "provenance": [],
      "include_colab_link": true
    },
    "kernelspec": {
      "name": "python3",
      "display_name": "Python 3"
    },
    "language_info": {
      "name": "python"
    }
  },
  "cells": [
    {
      "cell_type": "markdown",
      "metadata": {
        "id": "view-in-github",
        "colab_type": "text"
      },
      "source": [
        "<a href=\"https://colab.research.google.com/github/lipeoak/Simplifica_Python/blob/Fundamentos_de_Python/Estrutura_Controle_For.ipynb\" target=\"_parent\"><img src=\"https://colab.research.google.com/assets/colab-badge.svg\" alt=\"Open In Colab\"/></a>"
      ]
    },
    {
      "cell_type": "markdown",
      "source": [
        "# Simplifica Python\n",
        "---\n",
        "🤖  **Estrutura de Controle FOR**\n",
        "\n",
        "Laços de iteração utilizando o **for** em Python são estruturas de controle que permitem percorrer sequências de elementos, como listas, tuplas ou strings, executando um bloco de código para cada item da sequência. Eles simplificam o processo de repetição e processamento de elementos em uma coleção.\n",
        "Iremos aprender nessa aula:\n",
        "\n",
        "✅ Como usar a erstrutura de controle **for**\n",
        "\n",
        "✅ Exemplos de utilização\n"
      ],
      "metadata": {
        "id": "2JZT4w46vTG6"
      }
    },
    {
      "cell_type": "markdown",
      "source": [
        "*** Estrutura do for***\n"
      ],
      "metadata": {
        "id": "qlTKcQzU6mFl"
      }
    },
    {
      "cell_type": "code",
      "source": [
        "#Exemplo 01\n",
        "cores = ['azul', 'amarelo','vermelho','verde', 'roxo']\n",
        "\n",
        "for cor in cores:\n",
        "  print(cor)\n",
        "\n",
        "\n"
      ],
      "metadata": {
        "id": "Vv0EUz8zZcwS",
        "colab": {
          "base_uri": "https://localhost:8080/"
        },
        "outputId": "12152b31-ef37-4218-9ea9-33cb4f380596"
      },
      "execution_count": 1,
      "outputs": [
        {
          "output_type": "stream",
          "name": "stdout",
          "text": [
            "azul\n",
            "amarelo\n",
            "vermelho\n",
            "verde\n",
            "roxo\n"
          ]
        }
      ]
    },
    {
      "cell_type": "code",
      "source": [
        "#Exemplo 02\n",
        "frase = 'Eu serei um desenvolvedor Python'\n",
        "\n",
        "for i in frase:\n",
        "  print(i)\n",
        "\n"
      ],
      "metadata": {
        "id": "vDCucdue6if6",
        "colab": {
          "base_uri": "https://localhost:8080/"
        },
        "outputId": "fa95580d-1e18-4e34-ccbf-d1d9425e4f8a"
      },
      "execution_count": 2,
      "outputs": [
        {
          "output_type": "stream",
          "name": "stdout",
          "text": [
            "E\n",
            "u\n",
            " \n",
            "s\n",
            "e\n",
            "r\n",
            "e\n",
            "i\n",
            " \n",
            "u\n",
            "m\n",
            " \n",
            "d\n",
            "e\n",
            "s\n",
            "e\n",
            "n\n",
            "v\n",
            "o\n",
            "l\n",
            "v\n",
            "e\n",
            "d\n",
            "o\n",
            "r\n",
            " \n",
            "P\n",
            "y\n",
            "t\n",
            "h\n",
            "o\n",
            "n\n"
          ]
        }
      ]
    },
    {
      "cell_type": "code",
      "source": [
        "#Exemplo 03\n",
        "\n",
        "for i in range(1,11):\n",
        "  print(f'Número: {i}')\n",
        "\n",
        "\n",
        "\n"
      ],
      "metadata": {
        "id": "SWBAMDrX-QYE",
        "colab": {
          "base_uri": "https://localhost:8080/"
        },
        "outputId": "b3d877c0-cbf5-4af6-d4d5-033ecf5eac5f"
      },
      "execution_count": 4,
      "outputs": [
        {
          "output_type": "stream",
          "name": "stdout",
          "text": [
            "Número: 1\n",
            "Número: 2\n",
            "Número: 3\n",
            "Número: 4\n",
            "Número: 5\n",
            "Número: 6\n",
            "Número: 7\n",
            "Número: 8\n",
            "Número: 9\n",
            "Número: 10\n"
          ]
        }
      ]
    },
    {
      "cell_type": "markdown",
      "source": [
        "✅ Com cada linha de código em Python, você está construindo a fundação do seu futuro digital. Mantenha-se focado, persistente e curioso, pois cada desafio superado é um passo em direção ao seu sucesso como programador..\n",
        "\n",
        "[Simplifica Treinamentos](https://simplificatreinamentos.com.br)"
      ],
      "metadata": {
        "id": "5FGu-NCiaS0r"
      }
    }
  ]
}