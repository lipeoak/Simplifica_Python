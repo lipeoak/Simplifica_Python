{
  "nbformat": 4,
  "nbformat_minor": 0,
  "metadata": {
    "colab": {
      "provenance": [],
      "include_colab_link": true
    },
    "kernelspec": {
      "name": "python3",
      "display_name": "Python 3"
    },
    "language_info": {
      "name": "python"
    }
  },
  "cells": [
    {
      "cell_type": "markdown",
      "metadata": {
        "id": "view-in-github",
        "colab_type": "text"
      },
      "source": [
        "<a href=\"https://colab.research.google.com/github/lipeoak/Simplifica_Python/blob/main/Fundamentos_de_Python_FolhaSalarial.ipynb\" target=\"_parent\"><img src=\"https://colab.research.google.com/assets/colab-badge.svg\" alt=\"Open In Colab\"/></a>"
      ]
    },
    {
      "cell_type": "markdown",
      "source": [
        "**Atividade Final**\n",
        "\n",
        "***`Programa de Folha de Pagamento`***\n",
        "\n",
        "\n",
        "\n",
        "Nesta atividade, você vai desenvolver um programa em Python para calcular a folha de pagamento de um funcionário com base no valor da hora de trabalho e na quantidade de horas trabalhadas no mês.\n",
        "\n",
        "O programa deverá considerar os seguintes critérios:\n",
        "\n",
        "O desconto do Imposto de Renda é determinado pelo salário bruto do funcionário de acordo com a seguinte tabela:\n",
        "\n",
        "* Salário Bruto até R$ 900 (inclusive): isento de desconto\n",
        "\n",
        "* Salário Bruto até R$ 1500 (inclusive): desconto de 5%\n",
        "\n",
        "* Salário Bruto até R$ 2500 (inclusive): desconto de 10%\n",
        "\n",
        "* Salário Bruto acima de R$ 2500: desconto de 20%\n",
        "\n",
        "* O desconto do INSS é de 10% sobre o salário bruto.\n",
        "\n",
        "O FGTS corresponde a 11% do salário bruto, e não é descontado do funcionário, sendo depositado pela empresa.\n",
        "\n",
        "O programa deve solicitar ao usuário o valor da hora de trabalho e a quantidade de horas trabalhadas no mês. Em seguida, ele deve calcular e imprimir na tela as seguintes informações:\n",
        "\n",
        "* Salário Bruto\n",
        "* Desconto do Imposto de Renda\n",
        "* Desconto do INSS\n",
        "* Valor do FGTS\n",
        "* Total de descontos\n",
        "* Salário Líquido\n",
        "\n",
        "Ao completar esta atividade, você ganhará compreensão prática sobre como usar estruturas de controle e declaração de variáveis em Python para resolver problemas do mundo real, como o cálculo de folhas de pagamento."
      ],
      "metadata": {
        "id": "FQJFm53jntxS"
      }
    },
    {
      "cell_type": "code",
      "execution_count": 10,
      "metadata": {
        "id": "lklFhnSDnIBX",
        "colab": {
          "base_uri": "https://localhost:8080/"
        },
        "outputId": "d359b3d9-b244-4af2-f465-29e2a7ca896b"
      },
      "outputs": [
        {
          "output_type": "stream",
          "name": "stdout",
          "text": [
            "Informe o valor da sua hora de trabalho: 900\n",
            "Informe a quantidade de horas trabalhadas: 1\n",
            "Salário bruto: R$ 900.00\n",
            "Desconto do imposto de renda: R$0.00\n",
            "Desconto INSS: R$ 90.00\n",
            "Valor do FGTS coletado: R$ 99.00\n",
            "Total de descontos: R$ 90.00\n",
            "Salário líquido: R$ 810.00\n"
          ]
        }
      ],
      "source": [
        "#ENTRADAS: valor da hora de trabalho, quantidade de horas trabalhadas no mês\n",
        "\n",
        "valor_hora = float(input(\"Informe o valor da sua hora de trabalho: \"))\n",
        "horas_trabalhadas = float(input(\"Informe a quantidade de horas trabalhadas: \"))\n",
        "salario_bruto = valor_hora*horas_trabalhadas\n",
        "valor_FGTS = salario_bruto*0.11\n",
        "\n",
        "if salario_bruto<=900:\n",
        "  desconto_IRPF = 0\n",
        "  desconto_INSS = salario_bruto*0.1\n",
        "elif salario_bruto<=1500:\n",
        "  desconto_IRPF = salario_bruto*0.05\n",
        "  desconto_INSS = salario_bruto*0.1\n",
        "elif salario_bruto<=2500:\n",
        "  desconto_IRPF = salario_bruto*0.1\n",
        "  desconto_INSS = salario_bruto*0.1\n",
        "elif salario_bruto>2500:\n",
        "  desconto_IRPF = salario_bruto*0.20\n",
        "  desconto_INSS = salario_bruto*0.1\n",
        "desconto_total = desconto_IRPF + desconto_INSS\n",
        "\n",
        "#SAÍDAS: salário bruto, desconto do imposto de renda, desconto do INSS,\n",
        "# valor do FGTS, total de descontos e salário líquido\n",
        "print(f'Salário bruto: R$ {salario_bruto:.2f}')\n",
        "print(f'Desconto do imposto de renda: R${desconto_IRPF:.2f}')\n",
        "print(f'Desconto INSS: R$ {desconto_INSS:.2f}')\n",
        "print(f'Valor do FGTS coletado: R$ {valor_FGTS:.2f}')\n",
        "print(f'Total de descontos: R$ {desconto_total:.2f}')\n",
        "print(f'Salário líquido: R$ {salario_bruto-desconto_total:.2f}')\n"
      ]
    }
  ]
}
