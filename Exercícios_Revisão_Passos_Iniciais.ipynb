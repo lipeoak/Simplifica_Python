{
  "nbformat": 4,
  "nbformat_minor": 0,
  "metadata": {
    "colab": {
      "provenance": [],
      "authorship_tag": "ABX9TyOYiiCvSMNm6e5lSAfYnrQh",
      "include_colab_link": true
    },
    "kernelspec": {
      "name": "python3",
      "display_name": "Python 3"
    },
    "language_info": {
      "name": "python"
    }
  },
  "cells": [
    {
      "cell_type": "markdown",
      "metadata": {
        "id": "view-in-github",
        "colab_type": "text"
      },
      "source": [
        "<a href=\"https://colab.research.google.com/github/lipeoak/Simplifica_Python/blob/Fundamentos_de_Python/Exerc%C3%ADcios_Revis%C3%A3o_Passos_Iniciais.ipynb\" target=\"_parent\"><img src=\"https://colab.research.google.com/assets/colab-badge.svg\" alt=\"Open In Colab\"/></a>"
      ]
    },
    {
      "cell_type": "markdown",
      "source": [
        "## Exercício 1\n",
        "\n",
        "Enunciado: Escreva um programa que imprima \"Olá, mundo!\" na tela."
      ],
      "metadata": {
        "id": "Kn8bP46LPn0l"
      }
    },
    {
      "cell_type": "code",
      "source": [
        "print('Olá, mundo!')"
      ],
      "metadata": {
        "colab": {
          "base_uri": "https://localhost:8080/"
        },
        "id": "SLcOtwTbQMoo",
        "outputId": "d6944949-498f-43dc-fde4-7baf23ba4b44"
      },
      "execution_count": null,
      "outputs": [
        {
          "output_type": "stream",
          "name": "stdout",
          "text": [
            "Olá, mundo!\n"
          ]
        }
      ]
    },
    {
      "cell_type": "markdown",
      "source": [
        "## Exercício 2\n",
        "\n",
        "Enunciado: Escreva um programa que solicite ao usuário seu nome e,\n",
        "em seguida, imprima uma mensagem de boas-vindas com o nome\n",
        "fornecido."
      ],
      "metadata": {
        "id": "bjbHVDohQYNF"
      }
    },
    {
      "cell_type": "code",
      "source": [
        "nome = input('Informe seu nome: ')\n",
        "print(f'Olá, {nome}! Seja bem vindo!')"
      ],
      "metadata": {
        "colab": {
          "base_uri": "https://localhost:8080/"
        },
        "id": "sbT8WWjJQeTo",
        "outputId": "73e1df52-969a-424f-9b11-6b910f251edc"
      },
      "execution_count": null,
      "outputs": [
        {
          "output_type": "stream",
          "name": "stdout",
          "text": [
            "Informe seu nome: Felipe\n",
            "Olá, Felipe! Seja bem vindo!\n"
          ]
        }
      ]
    },
    {
      "cell_type": "markdown",
      "source": [
        "## Exercício 3\n",
        "\n",
        "Enunciado: Escreva um programa que solicite dois números ao usuário\n",
        "e exiba a soma, a subtração, a multiplicação e a divisão desses\n",
        "números."
      ],
      "metadata": {
        "id": "cyhp5LkuQ20e"
      }
    },
    {
      "cell_type": "code",
      "source": [
        "primeiro = input('Informe o primeiro número: ')\n",
        "segundo = input('Informe o segundo número:')\n",
        "\n",
        "print('\\nOperação de adição:')\n",
        "print(f'A soma de {primeiro} + {segundo} = {float(primeiro)+float(segundo):.2f}')\n",
        "\n",
        "print('\\nOperação de subtração: ')\n",
        "print(f'A subtração de {primeiro} - {segundo} = {float(primeiro)-float(segundo):.2f}')\n",
        "\n",
        "print('\\nOperação de multiplicação: ')\n",
        "print(f'A multiplicação de {primeiro} * {segundo} = {float(primeiro)*float(segundo):.2f}')\n",
        "\n",
        "print('\\nOperação de divisão: ')\n",
        "print(f'A divisão de {primeiro} / {segundo} = {float(primeiro)/float(segundo):.2f}')"
      ],
      "metadata": {
        "id": "O46zwQpPQ8qC",
        "colab": {
          "base_uri": "https://localhost:8080/"
        },
        "outputId": "d3c27135-8d3a-404f-9d38-ae68001a9f66"
      },
      "execution_count": null,
      "outputs": [
        {
          "output_type": "stream",
          "name": "stdout",
          "text": [
            "Informe o primeiro número: 10\n",
            "Informe o segundo número:2\n",
            "\n",
            "Operação de adição:\n",
            "A soma de 10 + 2 = 12.00\n",
            "\n",
            "Operação de subtração: \n",
            "A subtração de 10 - 2 = 8.00\n",
            "\n",
            "Operação de multiplicação: \n",
            "A multiplicação de 10 * 2 = 20.00\n",
            "\n",
            "Operação de divisão: \n",
            "A divisão de 10 / 2 = 5.00\n"
          ]
        }
      ]
    },
    {
      "cell_type": "markdown",
      "source": [
        "## Exercício 4\n",
        "\n",
        "Enunciado: Escreva uma função chamada \"soma\" que receba dois\n",
        "números como parâmetros e retorne a soma desses números."
      ],
      "metadata": {
        "id": "UTBJRYnHUHd1"
      }
    },
    {
      "cell_type": "code",
      "source": [
        "def soma(primeiro,segundo):\n",
        "  soma = primeiro + segundo\n",
        "  return soma\n",
        "\n",
        "a = int(input('Informe o primeiro valor: '))\n",
        "b = int(input('Informe o segundo valor: '))\n",
        "\n",
        "resultado = soma(a,b)\n",
        "\n",
        "print(f'A soma de {a} + {b} = {resultado}')"
      ],
      "metadata": {
        "colab": {
          "base_uri": "https://localhost:8080/"
        },
        "id": "lwXqKxK9UUqx",
        "outputId": "71e55a05-130f-4170-cbd6-ea12e059962e"
      },
      "execution_count": null,
      "outputs": [
        {
          "output_type": "stream",
          "name": "stdout",
          "text": [
            "Informe o primeiro valor: 15\n",
            "Informe o segundo valor: 25\n",
            "A soma de 15 + 25 = 40\n"
          ]
        }
      ]
    },
    {
      "cell_type": "markdown",
      "source": [
        "## Exercício 5\n",
        "\n",
        "Enunciado: Escreva um programa que solicite dois números ao usuário\n",
        "e imprima \"Verdadeiro\" se o primeiro número for maior que o\n",
        "segundo e \"Falso\" caso contrário."
      ],
      "metadata": {
        "id": "bRc_bwoVUT8s"
      }
    },
    {
      "cell_type": "code",
      "source": [
        "numero1 = float(input('Informe o primeiro valor: '))\n",
        "numero2 = float(input('Informe o segundo valor: '))\n",
        "teste = numero1 > numero2\n",
        "if teste:\n",
        "  print(teste)\n",
        "else:\n",
        "  print(teste)\n"
      ],
      "metadata": {
        "colab": {
          "base_uri": "https://localhost:8080/"
        },
        "id": "DK3WnIqHUcyn",
        "outputId": "be81990d-1b41-4f8b-a745-abecb36063f9"
      },
      "execution_count": null,
      "outputs": [
        {
          "output_type": "stream",
          "name": "stdout",
          "text": [
            "Informe o primeiro valor: 4\n",
            "Informe o segundo valor: 5\n",
            "False\n"
          ]
        }
      ]
    },
    {
      "cell_type": "markdown",
      "source": [
        "## Exercício 6\n",
        "\n",
        "Enunciado: Escreva um programa que solicite a idade do usuário e\n",
        "imprima \"Você pode votar.\" se a idade for maior ou igual a 18 anos, e\n",
        "\"Você ainda não pode votar.\" caso contrário."
      ],
      "metadata": {
        "id": "goz7IwB6Wknd"
      }
    },
    {
      "cell_type": "code",
      "source": [
        "#correção do enunciado: idade mínima para votação no Brasil é 16 anos\n",
        "\n",
        "idade = int(input('Informe a sua idade (deve ser um número inteiro): '))\n",
        "if idade>=16:\n",
        "  print('Você pode votar.')\n",
        "else:\n",
        "  print('Você ainda não pode votar.')"
      ],
      "metadata": {
        "colab": {
          "base_uri": "https://localhost:8080/"
        },
        "id": "HojYUSmAWq81",
        "outputId": "f8ab5d9f-5d20-4a9e-9146-f304b7b1a4b2"
      },
      "execution_count": null,
      "outputs": [
        {
          "output_type": "stream",
          "name": "stdout",
          "text": [
            "Informe a sua idade (deve ser um número inteiro): 15\n",
            "Você ainda não pode votar.\n"
          ]
        }
      ]
    },
    {
      "cell_type": "markdown",
      "source": [
        "##Exercício 7\n",
        "\n",
        "Enunciado: Escreva um programa que solicite uma frase ao usuário e\n",
        "conte o número de caracteres dessa frase, em seguida, imprima esse\n",
        "número."
      ],
      "metadata": {
        "id": "jYQHu-kPXVOm"
      }
    },
    {
      "cell_type": "code",
      "source": [
        "frase = input('Insira uma frase a seguir: ')\n",
        "caracteres = len(frase)\n",
        "\n",
        "print(f'A frase \"{frase}\" contém {caracteres} caracteres')"
      ],
      "metadata": {
        "colab": {
          "base_uri": "https://localhost:8080/"
        },
        "id": "FgJxSARbXdMP",
        "outputId": "30de63c0-f033-49bb-d6ca-b54b548c11ef"
      },
      "execution_count": null,
      "outputs": [
        {
          "output_type": "stream",
          "name": "stdout",
          "text": [
            "Insira uma frase a seguir: O indivíduo floresce quando a individualidade morre.\n",
            "A frase \"O indivíduo floresce quando a individualidade morre.\" contém 52 caracteres\n"
          ]
        }
      ]
    },
    {
      "cell_type": "markdown",
      "source": [
        "##Exercício 8\n",
        "\n",
        "Enunciado: Escreva um programa que crie uma lista de 5 números\n",
        "fornecidos pelo usuário e imprima a lista na tela."
      ],
      "metadata": {
        "id": "m3xvBFE6YC1I"
      }
    },
    {
      "cell_type": "code",
      "source": [
        "contador = 1\n",
        "lista = []\n",
        "print('Montando uma lista com números informados pelo usuário:\\nObs: utilizar números inteiros.\\n')\n",
        "while contador<=5:\n",
        "  lista.append(int(input(f'Informe o {contador}° número da lista: ')))\n",
        "  contador+=1\n",
        "print(f'\\nLista completa: {lista}\\n')\n",
        "contador = 1\n",
        "while contador<=5:\n",
        "  print(f'O {contador}° número da lista é o {lista[contador-1]}')\n",
        "  contador+=1"
      ],
      "metadata": {
        "colab": {
          "base_uri": "https://localhost:8080/"
        },
        "id": "gRzTFxFZYKic",
        "outputId": "dc5b18d8-b93c-4029-a28f-c90255df47cb"
      },
      "execution_count": null,
      "outputs": [
        {
          "output_type": "stream",
          "name": "stdout",
          "text": [
            "Montando uma lista com números informados pelo usuário:\n",
            "Obs: utilizar números inteiros.\n",
            "\n",
            "Informe o 1° número da lista: 25\n",
            "Informe o 2° número da lista: 62\n",
            "Informe o 3° número da lista: 48\n",
            "Informe o 4° número da lista: 95\n",
            "Informe o 5° número da lista: 02\n",
            "\n",
            "Lista completa: [25, 62, 48, 95, 2]\n",
            "\n",
            "O 1° número da lista é o 25\n",
            "O 2° número da lista é o 62\n",
            "O 3° número da lista é o 48\n",
            "O 4° número da lista é o 95\n",
            "O 5° número da lista é o 2\n"
          ]
        }
      ]
    },
    {
      "cell_type": "markdown",
      "source": [
        "## Exercício 9\n",
        "\n",
        "Enunciado: Escreva um programa que crie um dicionário com as\n",
        "chaves \"nome\" e \"idade\", e solicite ao usuário que insira seu nome e\n",
        "idade. Em seguida, imprima o dicionário."
      ],
      "metadata": {
        "id": "Gyo1Gzdebj3V"
      }
    },
    {
      "cell_type": "code",
      "source": [
        "dicionario = {\"nome\":0,\"idade\":0}\n",
        "dicionario['nome']=input('Informe o seu nome: ')\n",
        "dicionario['idade']=int(input('Informe a sua idade: '))\n",
        "print(dicionario)"
      ],
      "metadata": {
        "colab": {
          "base_uri": "https://localhost:8080/"
        },
        "id": "eDi62aqHbu6C",
        "outputId": "0a1fb4d0-55e7-448a-bc68-f93a32b30776"
      },
      "execution_count": null,
      "outputs": [
        {
          "output_type": "stream",
          "name": "stdout",
          "text": [
            "Informe o seu nome: Felipe\n",
            "Informe a sua idade: 36\n",
            "{'nome': 'Felipe', 'idade': 36}\n"
          ]
        }
      ]
    },
    {
      "cell_type": "markdown",
      "source": [
        "##Exercício 10\n",
        "\n",
        "Enunciado: Escreva um programa que crie uma tupla com três valores\n",
        "numéricos fornecidos pelo usuário e imprima a tupla na tela."
      ],
      "metadata": {
        "id": "zoIAS1DMg2g8"
      }
    },
    {
      "cell_type": "code",
      "source": [
        "primeiro = float(input('Informe o primeiro valor da tupla: '))\n",
        "segundo = float(input('Informe o segundo valor da tupla: '))\n",
        "terceiro = float(input('Informe o terceiro valor da tupla: '))\n",
        "\n",
        "tupla = (primeiro,segundo,terceiro)\n",
        "print(f'Imprimindo a tupla:\\n{tupla}')"
      ],
      "metadata": {
        "colab": {
          "base_uri": "https://localhost:8080/"
        },
        "id": "NruKbt30g8I0",
        "outputId": "07e5f6bb-eec4-41e8-e559-902a4da4e132"
      },
      "execution_count": null,
      "outputs": [
        {
          "output_type": "stream",
          "name": "stdout",
          "text": [
            "Informe o primeiro valor da tupla: 12.5\n",
            "Informe o segundo valor da tupla: 23\n",
            "Informe o terceiro valor da tupla: 6.5\n",
            "Imprimindo a tupla:\n",
            "(12.5, 23.0, 6.5)\n"
          ]
        }
      ]
    },
    {
      "cell_type": "code",
      "source": [
        "tupla = (\n",
        "    float(input('Informe o primeiro valor da tupla: ')),\n",
        "    float(input('Informe o segundo valor da tupla: ')),\n",
        "    float(input('Informe o terceiro valor da tupla: '))\n",
        "    )\n",
        "print(tupla)"
      ],
      "metadata": {
        "colab": {
          "base_uri": "https://localhost:8080/"
        },
        "id": "DHrxcU5Oo0b5",
        "outputId": "80d41cb8-41e9-4e75-dda6-56d5eafd8ca9"
      },
      "execution_count": 42,
      "outputs": [
        {
          "output_type": "stream",
          "name": "stdout",
          "text": [
            "Informe o primeiro valor da tupla: 2.5\n",
            "Informe o segundo valor da tupla: 6.3\n",
            "Informe o terceiro valor da tupla: 8.4\n",
            "(2.5, 6.3, 8.4)\n"
          ]
        }
      ]
    },
    {
      "cell_type": "markdown",
      "source": [
        "##Exercício 11\n",
        "\n",
        "Enunciado: Escreva um programa que crie dois conjuntos de números\n",
        "fornecidos pelo usuário e imprima a união desses conjuntos."
      ],
      "metadata": {
        "id": "cXcYPe-dhrlc"
      }
    },
    {
      "cell_type": "code",
      "source": [
        "len_a = int(input('Informe a quantidade de números presentes no primeiro conjunto:'))\n",
        "len_b = int(input('Informe a quantidade de números presentes no segundo conjunto: '))\n",
        "conjunto_a = set()\n",
        "conjunto_b = set()\n",
        "contador = 0\n",
        "#montando o primeiro conjunto\n",
        "while contador<len_a:\n",
        "  conjunto_a.add(int(input(f'Informe o {contador+1}° elemento do primeiro conjunto :')))\n",
        "  contador+=1\n",
        "#resetando o contador\n",
        "contador=0\n",
        "#monstando o segundo conjunto\n",
        "while contador<len_b:\n",
        "  conjunto_b.add(int(input(f'Informe o {contador+1}° elemento do segundo conjunto :')))\n",
        "  contador+=1\n",
        "#união dos conjuntos,\n",
        "print(f'A união dos conjuntos {conjunto_a} e {conjunto_b} será equivalente a {conjunto_a.union(conjunto_b)}')\n"
      ],
      "metadata": {
        "id": "vrBonid4hyHf",
        "colab": {
          "base_uri": "https://localhost:8080/"
        },
        "outputId": "741f8e96-7bcd-4d8d-a941-77b618753fde"
      },
      "execution_count": 48,
      "outputs": [
        {
          "output_type": "stream",
          "name": "stdout",
          "text": [
            "Informe a quantidade de números presentes no primeiro conjunto:2\n",
            "Informe a quantidade de números presentes no segundo conjunto: 3\n",
            "Informe o 1° elemento do primeiro conjunto :1\n",
            "Informe o 2° elemento do primeiro conjunto :2\n",
            "Informe o 1° elemento do segundo conjunto :2\n",
            "Informe o 2° elemento do segundo conjunto :3\n",
            "Informe o 3° elemento do segundo conjunto :4\n",
            "A união dos conjuntos {1, 2} e {2, 3, 4} será equivalente a {1, 2, 3, 4}\n",
            "{1, 2} {2, 3, 4}\n"
          ]
        }
      ]
    },
    {
      "cell_type": "markdown",
      "source": [
        "##Exercício 12\n",
        "\n",
        "Enunciado: Escreva um programa que solicite um número ao usuário e\n",
        "imprima \"Positivo\" se o número for maior que zero, \"Negativo\" se for\n",
        "menor que zero e \"Zero\" caso contrário."
      ],
      "metadata": {
        "id": "0hXSM4L75tCn"
      }
    },
    {
      "cell_type": "code",
      "source": [
        "numero = float(input('Informe um número ao programa: '))\n",
        "\n",
        "if numero>0:\n",
        "  print('Positivo')\n",
        "elif numero<0:\n",
        "  print('Negativo')\n",
        "else:\n",
        "  print('Zero')"
      ],
      "metadata": {
        "colab": {
          "base_uri": "https://localhost:8080/"
        },
        "id": "aaDe3ZAE57mI",
        "outputId": "1101ce70-7c24-4c4c-cd7b-be89502da724"
      },
      "execution_count": 51,
      "outputs": [
        {
          "output_type": "stream",
          "name": "stdout",
          "text": [
            "Informe um número ao programa: 0\n",
            "Zero\n"
          ]
        }
      ]
    },
    {
      "cell_type": "markdown",
      "source": [
        "## Exercício 13\n",
        "\n",
        "Enunciado: Escreva um programa que solicite um número ao usuário e\n",
        "imprima todos os números de 1 até o número fornecido pelo usuário,\n",
        "usando um loop while."
      ],
      "metadata": {
        "id": "h5u52tca6iNO"
      }
    },
    {
      "cell_type": "code",
      "source": [
        "numero = int(input('Informe um número inteiro positivo ao programa: '))\n",
        "contador = 1\n",
        "while contador<=numero:\n",
        "  print(contador)\n",
        "  contador+=1"
      ],
      "metadata": {
        "colab": {
          "base_uri": "https://localhost:8080/"
        },
        "id": "NXMhy2ED6o0n",
        "outputId": "bd13792f-c218-429b-86ab-b1006ce4d1a5"
      },
      "execution_count": 61,
      "outputs": [
        {
          "output_type": "stream",
          "name": "stdout",
          "text": [
            "Informe um número inteiro positivo ao programa: 9\n",
            "1\n",
            "2\n",
            "3\n",
            "4\n",
            "5\n",
            "6\n",
            "7\n",
            "8\n",
            "9\n"
          ]
        }
      ]
    },
    {
      "cell_type": "markdown",
      "source": [
        "##Exercício 14\n",
        "\n",
        "Enunciado: Escreva um programa que imprima os números de 1 a 10\n",
        "usando um loop for."
      ],
      "metadata": {
        "id": "Zq8qOhz_7WmF"
      }
    },
    {
      "cell_type": "code",
      "source": [
        "for numero in range(1,10+1):\n",
        "  print(numero)"
      ],
      "metadata": {
        "colab": {
          "base_uri": "https://localhost:8080/"
        },
        "id": "uBGBdKAb7b30",
        "outputId": "d7d12f29-6b2b-4821-bed9-edba902cba0b"
      },
      "execution_count": 60,
      "outputs": [
        {
          "output_type": "stream",
          "name": "stdout",
          "text": [
            "1\n",
            "2\n",
            "3\n",
            "4\n",
            "5\n",
            "6\n",
            "7\n",
            "8\n",
            "9\n",
            "10\n"
          ]
        }
      ]
    },
    {
      "cell_type": "markdown",
      "source": [
        "##Exercício 15\n",
        "\n",
        "Enunciado: Escreva um programa que solicite um número ao usuário e\n",
        "imprima todos os números de 1 até o número fornecido pelo usuário,\n",
        "usando um loop while."
      ],
      "metadata": {
        "id": "JiVl3WHN7_Ze"
      }
    },
    {
      "cell_type": "code",
      "source": [
        "#como o exercício é igual ao exercício 13, será realizado utilizando o laço for ao invés do laço while\n",
        "\n",
        "numero = int(input('Informe um número inteiro para ser utilizado pelo programa: '))\n",
        "\n",
        "for valor in range(1,numero+1):\n",
        "  print(valor)"
      ],
      "metadata": {
        "colab": {
          "base_uri": "https://localhost:8080/"
        },
        "id": "WCTDPiho8Jyt",
        "outputId": "61695635-f5f7-4200-9361-4214d5931e52"
      },
      "execution_count": 59,
      "outputs": [
        {
          "output_type": "stream",
          "name": "stdout",
          "text": [
            "Informe um número inteiro para ser utilizado pelo programa: 15\n",
            "1\n",
            "2\n",
            "3\n",
            "4\n",
            "5\n",
            "6\n",
            "7\n",
            "8\n",
            "9\n",
            "10\n",
            "11\n",
            "12\n",
            "13\n",
            "14\n",
            "15\n"
          ]
        }
      ]
    }
  ]
}