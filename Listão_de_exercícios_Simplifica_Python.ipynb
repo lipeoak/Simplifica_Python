{
  "nbformat": 4,
  "nbformat_minor": 0,
  "metadata": {
    "colab": {
      "provenance": [],
      "collapsed_sections": [
        "amm8f2bPt7AF",
        "4U7pdAO0u_nV",
        "EsdbjFlXydT9",
        "xeNQ3SPY0R0e",
        "CYzAwpME7J8f",
        "LWQuKVqA-dBP",
        "5G1S_p7ZCTlf"
      ],
      "include_colab_link": true
    },
    "kernelspec": {
      "name": "python3",
      "display_name": "Python 3"
    },
    "language_info": {
      "name": "python"
    }
  },
  "cells": [
    {
      "cell_type": "markdown",
      "metadata": {
        "id": "view-in-github",
        "colab_type": "text"
      },
      "source": [
        "<a href=\"https://colab.research.google.com/github/lipeoak/Simplifica_Python/blob/main/List%C3%A3o_de_exerc%C3%ADcios_Simplifica_Python.ipynb\" target=\"_parent\"><img src=\"https://colab.research.google.com/assets/colab-badge.svg\" alt=\"Open In Colab\"/></a>"
      ]
    },
    {
      "cell_type": "markdown",
      "source": [
        "## Listão de exercícios - Simplifica Python\n",
        "*italicized text*"
      ],
      "metadata": {
        "id": "2JZT4w46vTG6"
      }
    },
    {
      "cell_type": "markdown",
      "source": [
        "Lista resolvida por Felipe Marcolino Carvalho Costa: https://colab.research.google.com/drive/1-OEjXjqKwY5p6erL3-x7Kg6F22-5A6n8#scrollTo=RNpB501Ktdhd\n",
        "\n",
        "Fonte da lista de exercícios: https://drive.google.com/file/d/1QZfRgYaCbyIVYiuWjNIpHc3rUIXZL35y/view?usp=drivesdk"
      ],
      "metadata": {
        "id": "RNpB501Ktdhd"
      }
    },
    {
      "cell_type": "markdown",
      "source": [
        "## Programa 1\n",
        "\n",
        "Enunciado: Escreva um programa em Python para imprimir \"Hello Python\"."
      ],
      "metadata": {
        "id": "amm8f2bPt7AF"
      }
    },
    {
      "cell_type": "code",
      "source": [
        "print('Hello Python')"
      ],
      "metadata": {
        "colab": {
          "base_uri": "https://localhost:8080/"
        },
        "id": "KoJAPUcnu0Ld",
        "outputId": "173a86d4-ce7a-4ee4-e0e8-944a809a6de0"
      },
      "execution_count": 1,
      "outputs": [
        {
          "output_type": "stream",
          "name": "stdout",
          "text": [
            "Hello Python\n"
          ]
        }
      ]
    },
    {
      "cell_type": "markdown",
      "source": [
        "## Programa 2\n",
        "\n",
        "Enunciado: Escreva um programa em Python para realizar operações aritméticas de adição e divisão."
      ],
      "metadata": {
        "id": "4U7pdAO0u_nV"
      }
    },
    {
      "cell_type": "code",
      "source": [
        "# Adição\n",
        "print('Operação de adição')\n",
        "parcela1 = int(input('Informe o valor da primeira parcela: '))\n",
        "parcela2 = int(input('Informe o valor da segunda parcela: '))\n",
        "soma = parcela1 + parcela2\n",
        "print(f'O resultado da soma de {parcela1} com {parcela2} é igual a {soma}')\n",
        "\n",
        "# Divisão\n",
        "\n",
        "print('Operação de divisão')\n",
        "dividendo = float(input('Informe o valor do dividendo: '))\n",
        "divisor = float(input('Informe o valor do divisor: '))\n",
        "if divisor != 0:\n",
        "      quociente = dividendo / divisor\n",
        "      print(f'O resultado da divisão de {dividendo} por {divisor} é igual a {quociente:.2f}.')\n",
        "else:\n",
        "      print(f'O valor do divisor é {divisor}. Não é possível realizar uma divisão por {divisor}.')\n",
        "\n"
      ],
      "metadata": {
        "colab": {
          "base_uri": "https://localhost:8080/"
        },
        "id": "fo8aoI9AvT1t",
        "outputId": "50afb096-e2dd-4e0a-c825-be026afdea76"
      },
      "execution_count": 6,
      "outputs": [
        {
          "output_type": "stream",
          "name": "stdout",
          "text": [
            "Operação de adição\n",
            "Informe o valor da primeira parcela: 10\n",
            "Informe o valor da segunda parcela: 5\n",
            "O resultado da soma de 10 com 5 é igual a 15\n",
            "Operação de divisão\n",
            "Informe o valor do dividendo: 9\n",
            "Informe o valor do divisor: 0\n",
            "O valor do divisor é 0.0. Não é possível realizar uma divisão por 0.0\n"
          ]
        }
      ]
    },
    {
      "cell_type": "markdown",
      "source": [
        "## Programa 3\n",
        "\n",
        "Enunciado: Escreva um programa em Python para encontrar a área de um triângulo."
      ],
      "metadata": {
        "id": "EsdbjFlXydT9"
      }
    },
    {
      "cell_type": "code",
      "source": [
        "# Área do triângulo: A = base*altura/2\n",
        "print('Calculadora de área de triângulos.')\n",
        "base = float(input('Informe o valor da base do triângulo: '))\n",
        "altura = float(input('Informe o valor da altura do triângulo: '))\n",
        "area = base*altura/2\n",
        "print(f'A área do triângulo de base {base} e altura {altura} é igual a {area:.2f}')"
      ],
      "metadata": {
        "colab": {
          "base_uri": "https://localhost:8080/"
        },
        "id": "lrt8r6XryrVO",
        "outputId": "2c927dc8-9a78-43af-b490-8f80f0f54dea"
      },
      "execution_count": 7,
      "outputs": [
        {
          "output_type": "stream",
          "name": "stdout",
          "text": [
            "Calculadora de área de triângulos.\n",
            "Informe o valor da base do triângulo: 5\n",
            "Informe o valor da altura do triângulo: 6\n",
            "A área do triângulo de base 5.0 e altura 6.0 é igual a 15.00\n"
          ]
        }
      ]
    },
    {
      "cell_type": "markdown",
      "source": [
        "## Programa 4\n",
        "\n",
        "Enunciado: Escreva um programa em Python para trocar duas variáveis."
      ],
      "metadata": {
        "id": "xeNQ3SPY0R0e"
      }
    },
    {
      "cell_type": "code",
      "source": [
        "variavel1 = input('informe um valor para a primeira variável: ')\n",
        "variavel2 = input('Informe um valor para a segunda variável: ')\n",
        "print(f'Valores informados: variavel1 = {variavel1}, variavel2 = {variavel2}')\n",
        "guardar1 = variavel1\n",
        "guardar2 = variavel2\n",
        "variavel1 = guardar2\n",
        "variavel2 = guardar1\n",
        "print(f'Valores trocados: variavel1 = {variavel1}, variavel2 = {variavel2}')"
      ],
      "metadata": {
        "colab": {
          "base_uri": "https://localhost:8080/"
        },
        "id": "mSBLRBCf0f1O",
        "outputId": "7cca791f-ef9c-4ef4-97d8-0d1110c74f46"
      },
      "execution_count": 8,
      "outputs": [
        {
          "output_type": "stream",
          "name": "stdout",
          "text": [
            "informe um valor para a primeira variável: 5\n",
            "Informe um valor para a segunda variável: 8\n",
            "Valores informados: variavel1 = 5, variavel2 = 8\n",
            "Valores trocados: variavel1 = 8, variavel2 = 5\n"
          ]
        }
      ]
    },
    {
      "cell_type": "markdown",
      "source": [
        "## Programa 5\n",
        "\n",
        "Enunciado: Escreva um programa em Python para gerar um número aleatório."
      ],
      "metadata": {
        "id": "CYzAwpME7J8f"
      }
    },
    {
      "cell_type": "code",
      "source": [
        "import random\n",
        "print('Gerando um número aleatório entre 1 e 100:')\n",
        "var = random.randint(1, 100)\n",
        "print(f'O número aleatório gerado foi o {var}')"
      ],
      "metadata": {
        "colab": {
          "base_uri": "https://localhost:8080/"
        },
        "id": "Nkcqi83_7T5X",
        "outputId": "7a6d5175-994e-4378-d154-0af096a2397f"
      },
      "execution_count": 13,
      "outputs": [
        {
          "output_type": "stream",
          "name": "stdout",
          "text": [
            "Gerando um número aleatório entre 1 e 100:\n",
            "O número aleatório gerado foi o 81\n"
          ]
        }
      ]
    },
    {
      "cell_type": "markdown",
      "source": [
        "## Programa 6\n",
        "\n",
        "Enunciado: Escreva um programa em Python para converter quilômetros em milhas."
      ],
      "metadata": {
        "id": "LWQuKVqA-dBP"
      }
    },
    {
      "cell_type": "code",
      "source": [
        "# 1 quilometro é aproximadamente 0,621371 milhas\n",
        "print('Conversor de quilometros para milhas.')\n",
        "km = float(input('Informe o valor em quilometros que se deseja converter. '))\n",
        "milhas = km * 0.621371\n",
        "print(f'{km} quilometros equivale a aproximadamente {milhas:.2f} milhas.')"
      ],
      "metadata": {
        "colab": {
          "base_uri": "https://localhost:8080/"
        },
        "id": "E4Hzb-VvBBzX",
        "outputId": "466b2e15-5616-47f3-cfc5-63214488c277"
      },
      "execution_count": 16,
      "outputs": [
        {
          "output_type": "stream",
          "name": "stdout",
          "text": [
            "Conversor de quilometros para milhas.\n",
            "Informe o valor em quilometros que se deseja converter. 250\n",
            "250.0 quilometros equivale a aproximadamente 155.34 milhas.\n"
          ]
        }
      ]
    },
    {
      "cell_type": "markdown",
      "source": [
        "## Programa 7\n",
        "\n",
        "Enunciado: Escreva um programa em Python para converter Celsius em Farenheit."
      ],
      "metadata": {
        "id": "5G1S_p7ZCTlf"
      }
    },
    {
      "cell_type": "code",
      "source": [
        "# C = 32 + C*9/5\n",
        "\n",
        "print('Conversor de temperaturas: Celsius para Farenheit.')\n",
        "celsius = float(input('Informe a temperatura em celsius: '))\n",
        "farenheit = 32 + (celsius*9/5)\n",
        "print(f'{celsius}° Celsius equivalem a {farenheit:.2f}° Farenheit.')"
      ],
      "metadata": {
        "colab": {
          "base_uri": "https://localhost:8080/"
        },
        "id": "YqJNQg--CgkP",
        "outputId": "39474c4f-8208-4365-f274-e8029a505538"
      },
      "execution_count": 22,
      "outputs": [
        {
          "output_type": "stream",
          "name": "stdout",
          "text": [
            "Conversor de temperaturas: Celsius para Farenheit.\n",
            "Informe a temperatura em celsius: 25\n",
            "25.0° Celsius equivalem a 77.00° Farenheit.\n"
          ]
        }
      ]
    },
    {
      "cell_type": "markdown",
      "source": [
        "## Programa 8\n",
        "\n",
        "Enunciado: Escreva um programa em Python para exibir um calendário."
      ],
      "metadata": {
        "id": "qHK3nKkhFEMA"
      }
    },
    {
      "cell_type": "code",
      "source": [],
      "metadata": {
        "id": "NXs-aTfGFPdw"
      },
      "execution_count": null,
      "outputs": []
    }
  ]
}