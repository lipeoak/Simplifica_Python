{
  "nbformat": 4,
  "nbformat_minor": 0,
  "metadata": {
    "colab": {
      "provenance": [],
      "include_colab_link": true
    },
    "kernelspec": {
      "name": "python3",
      "display_name": "Python 3"
    },
    "language_info": {
      "name": "python"
    }
  },
  "cells": [
    {
      "cell_type": "markdown",
      "metadata": {
        "id": "view-in-github",
        "colab_type": "text"
      },
      "source": [
        "<a href=\"https://colab.research.google.com/github/lipeoak/Simplifica_Python/blob/main/List%C3%A3o_de_exerc%C3%ADcios_Simplifica_Python.ipynb\" target=\"_parent\"><img src=\"https://colab.research.google.com/assets/colab-badge.svg\" alt=\"Open In Colab\"/></a>"
      ]
    },
    {
      "cell_type": "markdown",
      "source": [
        "## Listão de exercícios - Simplifica Python\n"
      ],
      "metadata": {
        "id": "2JZT4w46vTG6"
      }
    },
    {
      "cell_type": "markdown",
      "source": [
        "Fonte: https://drive.google.com/file/d/1QZfRgYaCbyIVYiuWjNIpHc3rUIXZL35y/view?usp=drivesdk"
      ],
      "metadata": {
        "id": "RNpB501Ktdhd"
      }
    },
    {
      "cell_type": "markdown",
      "source": [
        "Programa 1\n",
        "\n",
        "Enunciado: Escreva um programa em Python para imprimir \"Hello Python\"."
      ],
      "metadata": {
        "id": "amm8f2bPt7AF"
      }
    },
    {
      "cell_type": "code",
      "source": [
        "print('Hello Python')"
      ],
      "metadata": {
        "colab": {
          "base_uri": "https://localhost:8080/"
        },
        "id": "KoJAPUcnu0Ld",
        "outputId": "173a86d4-ce7a-4ee4-e0e8-944a809a6de0"
      },
      "execution_count": 1,
      "outputs": [
        {
          "output_type": "stream",
          "name": "stdout",
          "text": [
            "Hello Python\n"
          ]
        }
      ]
    },
    {
      "cell_type": "markdown",
      "source": [
        "Programa 2\n",
        "\n",
        "Enunciado: Escreva um programa em Python para realizar operações aritméticas de adição e divisão."
      ],
      "metadata": {
        "id": "4U7pdAO0u_nV"
      }
    },
    {
      "cell_type": "code",
      "source": [
        "# Adição\n",
        "print('Operação de adição')\n",
        "parcela1 = int(input('Informe o valor da primeira parcela: '))\n",
        "parcela2 = int(input('Informe o valor da segunda parcela: '))\n",
        "soma = parcela1 + parcela2\n",
        "print(f'O resultado da soma de {parcela1} com {parcela2} é igual a {soma}')\n",
        "\n",
        "# Divisão\n",
        "\n",
        "print('Operação de divisão')\n",
        "dividendo = float(input('Informe o valor do dividendo: '))\n",
        "divisor = float(input('Informe o valor do divisor: '))\n",
        "if divisor != 0:\n",
        "      quociente = dividendo / divisor\n",
        "      print(f'O resultado da divisão de {dividendo} por {divisor} é igual a {quociente:.2f}.')\n",
        "else:\n",
        "      print(f'O valor do divisor é {divisor}. Não é possível realizar uma divisão por {divisor}.')\n",
        "\n"
      ],
      "metadata": {
        "colab": {
          "base_uri": "https://localhost:8080/"
        },
        "id": "fo8aoI9AvT1t",
        "outputId": "50afb096-e2dd-4e0a-c825-be026afdea76"
      },
      "execution_count": 6,
      "outputs": [
        {
          "output_type": "stream",
          "name": "stdout",
          "text": [
            "Operação de adição\n",
            "Informe o valor da primeira parcela: 10\n",
            "Informe o valor da segunda parcela: 5\n",
            "O resultado da soma de 10 com 5 é igual a 15\n",
            "Operação de divisão\n",
            "Informe o valor do dividendo: 9\n",
            "Informe o valor do divisor: 0\n",
            "O valor do divisor é 0.0. Não é possível realizar uma divisão por 0.0\n"
          ]
        }
      ]
    }
  ]
}