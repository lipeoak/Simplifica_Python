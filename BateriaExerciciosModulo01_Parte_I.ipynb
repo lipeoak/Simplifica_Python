{
  "nbformat": 4,
  "nbformat_minor": 0,
  "metadata": {
    "colab": {
      "provenance": [],
      "include_colab_link": true
    },
    "kernelspec": {
      "name": "python3",
      "display_name": "Python 3"
    },
    "language_info": {
      "name": "python"
    }
  },
  "cells": [
    {
      "cell_type": "markdown",
      "metadata": {
        "id": "view-in-github",
        "colab_type": "text"
      },
      "source": [
        "<a href=\"https://colab.research.google.com/github/lipeoak/Simplifica_Python/blob/main/BateriaExerciciosModulo01_Parte_I.ipynb\" target=\"_parent\"><img src=\"https://colab.research.google.com/assets/colab-badge.svg\" alt=\"Open In Colab\"/></a>"
      ]
    },
    {
      "cell_type": "markdown",
      "source": [
        "Listas 01 de exercícios resolvidos sem copiar a resolução do professor Alexandre Sauer\n"
      ],
      "metadata": {
        "id": "5l-lpZdsA8Ir"
      }
    },
    {
      "cell_type": "markdown",
      "source": [
        "# Simplifica Python\n",
        "---\n",
        "🌐 **Bateria de Exercícios**\n",
        "\n",
        "Bem-vindo à nossa bateria de exercícios em Python! Esta série de desafios foi criada para ajudá-lo a aprimorar suas habilidades de programação em Python.\n",
        "\n",
        "Nossos exercícios abrangem os tópicos estudados até o momento. Cada exercício é projetado para desafiá-lo a aplicar o que aprendeu, fornecendo instruções claras e exemplos para orientá-lo.\n",
        "\n",
        "Não hesite em explorar, experimentar e testar suas habilidades. A prática constante é a chave para se tornar um programador habilidoso. Divirta-se resolvendo esses exercícios e, acima de tudo, não tenha medo de cometer erros, pois é assim que aprendemos e crescemos como programadores.\n",
        "\n",
        "Boa sorte e vamos começar a resolver esses desafios em Python!"
      ],
      "metadata": {
        "id": "2JZT4w46vTG6"
      }
    },
    {
      "cell_type": "markdown",
      "source": [
        "**Exercício 01: Calculadora de Gorjetas:**\n",
        "\n",
        "Crie um programa que solicite ao usuário o valor da conta em um restaurante e a porcentagem de gorjeta desejada. Calcule o valor da gorjeta e a conta total, em seguida, exiba os resultados com uma mensagem usando a função print."
      ],
      "metadata": {
        "id": "EmcI7ZcX8B9R"
      }
    },
    {
      "cell_type": "code",
      "source": [
        "#Entradas: 1. Valor da conta, 2. porcentagem da gorjeta.\n",
        "#Saídas: 1. Valor da gorjeta, 2. Valor total da conta com a gorjeta\n",
        "\n",
        "#Parte 1: Entrada de valores\n",
        "\n",
        "valor_conta = float(input(\"Informe o valor da conta: \"))\n",
        "porcentagem_gorjeta = float(input(\"Informe o valor da porcentagem da gorjeta: \"))\n",
        "\n",
        "#Parte 2: Cálculos e conversão do valor da gorjeta para valor unitário\n",
        "\n",
        "unitario_gorjeta = porcentagem_gorjeta / 100\n",
        "valor_gorjeta = unitario_gorjeta * valor_conta\n",
        "valor_total = valor_gorjeta + valor_conta\n",
        "\n",
        "#Parte 3: Apresentando resultados\n",
        "\n",
        "print(f\"\\n***********Recibo***********\\nGorjeta: R$ {valor_gorjeta}\\nValor total da conta: R$ {valor_total}\")\n"
      ],
      "metadata": {
        "id": "PUR7PHzREasV",
        "colab": {
          "base_uri": "https://localhost:8080/"
        },
        "outputId": "9613677b-836b-47d6-bec3-ea88469f750c"
      },
      "execution_count": 5,
      "outputs": [
        {
          "output_type": "stream",
          "name": "stdout",
          "text": [
            "Informe o valor da conta: 100\n",
            "Informe o valor da porcentagem da gorjeta: 15\n",
            "\n",
            "***********Recibo***********\n",
            "Gorjeta: R$ 15.0\n",
            "Valor total da conta: R$ 115.0\n"
          ]
        }
      ]
    },
    {
      "cell_type": "markdown",
      "source": [
        "**Exercício 02: Conversor de Temperatura:**\n",
        "\n",
        "Peça ao usuário para fornecer uma temperatura em graus Celsius. Converta essa temperatura para graus Fahrenheit usando a fórmula F = (C * 9/5) + 32 e exiba o resultado usando print."
      ],
      "metadata": {
        "id": "G8GxuJRh9BNy"
      }
    },
    {
      "cell_type": "code",
      "source": [
        "\n"
      ],
      "metadata": {
        "id": "FUX4bnp39ZGb"
      },
      "execution_count": null,
      "outputs": []
    },
    {
      "cell_type": "markdown",
      "source": [
        "**Exercício 03: Conversor de Moeda:**\n",
        "\n",
        "Converta uma quantidade de dinheiro de uma moeda para outra. Peça ao usuário para inserir o valor em reais e converta em Dólares"
      ],
      "metadata": {
        "id": "FU8AvR2Ba6Kt"
      }
    },
    {
      "cell_type": "code",
      "source": [],
      "metadata": {
        "id": "BCtMxQCOjb7A"
      },
      "execution_count": null,
      "outputs": []
    },
    {
      "cell_type": "markdown",
      "source": [
        "**Exercício 04: Calculadora de Desconto de Compras:**\n",
        "\n",
        "Peça ao usuário para inserir o preço de um produto e o percentual de desconto que desejam aplicar. Calcule o valor do desconto e o preço final do produto com desconto, e imprima os resultados."
      ],
      "metadata": {
        "id": "IDHN0MHdkNb3"
      }
    },
    {
      "cell_type": "code",
      "source": [],
      "metadata": {
        "id": "ZnBXNYxFkTx4"
      },
      "execution_count": null,
      "outputs": []
    },
    {
      "cell_type": "markdown",
      "source": [
        "---\n",
        "✅ Parabéns a todos! Vocês progrediram muito neste módulo. Continuem praticando e aprimorando suas habilidades.\n",
        "\n",
        "[Simplifica Treinamentos](https://www.simplificatreinamentos.com.br/)"
      ],
      "metadata": {
        "id": "7HKuMeFognpU"
      }
    }
  ]
}