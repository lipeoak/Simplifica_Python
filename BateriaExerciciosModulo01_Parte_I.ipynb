{
  "nbformat": 4,
  "nbformat_minor": 0,
  "metadata": {
    "colab": {
      "provenance": [],
      "include_colab_link": true
    },
    "kernelspec": {
      "name": "python3",
      "display_name": "Python 3"
    },
    "language_info": {
      "name": "python"
    }
  },
  "cells": [
    {
      "cell_type": "markdown",
      "metadata": {
        "id": "view-in-github",
        "colab_type": "text"
      },
      "source": [
        "<a href=\"https://colab.research.google.com/github/lipeoak/Simplifica_Python/blob/main/BateriaExerciciosModulo01_Parte_I.ipynb\" target=\"_parent\"><img src=\"https://colab.research.google.com/assets/colab-badge.svg\" alt=\"Open In Colab\"/></a>"
      ]
    },
    {
      "cell_type": "markdown",
      "source": [
        "Listas 01 de exercícios resolvidos sem copiar a resolução do professor Alexandre Sauer\n"
      ],
      "metadata": {
        "id": "5l-lpZdsA8Ir"
      }
    },
    {
      "cell_type": "markdown",
      "source": [
        "# Simplifica Python\n",
        "---\n",
        "🌐 **Bateria de Exercícios**\n",
        "\n",
        "Bem-vindo à nossa bateria de exercícios em Python! Esta série de desafios foi criada para ajudá-lo a aprimorar suas habilidades de programação em Python.\n",
        "\n",
        "Nossos exercícios abrangem os tópicos estudados até o momento. Cada exercício é projetado para desafiá-lo a aplicar o que aprendeu, fornecendo instruções claras e exemplos para orientá-lo.\n",
        "\n",
        "Não hesite em explorar, experimentar e testar suas habilidades. A prática constante é a chave para se tornar um programador habilidoso. Divirta-se resolvendo esses exercícios e, acima de tudo, não tenha medo de cometer erros, pois é assim que aprendemos e crescemos como programadores.\n",
        "\n",
        "Boa sorte e vamos começar a resolver esses desafios em Python!"
      ],
      "metadata": {
        "id": "2JZT4w46vTG6"
      }
    },
    {
      "cell_type": "markdown",
      "source": [
        "**Exercício 01: Calculadora de Gorjetas:**\n",
        "\n",
        "Crie um programa que solicite ao usuário o valor da conta em um restaurante e a porcentagem de gorjeta desejada. Calcule o valor da gorjeta e a conta total, em seguida, exiba os resultados com uma mensagem usando a função print."
      ],
      "metadata": {
        "id": "EmcI7ZcX8B9R"
      }
    },
    {
      "cell_type": "code",
      "source": [
        "#Entradas: 1. Valor da conta, 2. porcentagem da gorjeta.\n",
        "#Saídas: 1. Valor da gorjeta, 2. Valor total da conta com a gorjeta\n",
        "\n",
        "#Parte 1: Entrada de valores\n",
        "\n",
        "valor_conta = float(input(\"Informe o valor da conta: \"))\n",
        "porcentagem_gorjeta = float(input(\"Informe o valor da porcentagem da gorjeta: \"))\n",
        "\n",
        "#Parte 2: Cálculos e conversão do valor da gorjeta para valor unitário\n",
        "\n",
        "unitario_gorjeta = porcentagem_gorjeta / 100\n",
        "valor_gorjeta = unitario_gorjeta * valor_conta\n",
        "valor_total = valor_gorjeta + valor_conta\n",
        "\n",
        "#Parte 3: Apresentando resultados\n",
        "\n",
        "print(f\"\\n***********Recibo***********\\nGorjeta: R$ {valor_gorjeta}\\nValor total da conta: R$ {valor_total}\")\n"
      ],
      "metadata": {
        "id": "PUR7PHzREasV",
        "colab": {
          "base_uri": "https://localhost:8080/"
        },
        "outputId": "9613677b-836b-47d6-bec3-ea88469f750c"
      },
      "execution_count": null,
      "outputs": [
        {
          "output_type": "stream",
          "name": "stdout",
          "text": [
            "Informe o valor da conta: 100\n",
            "Informe o valor da porcentagem da gorjeta: 15\n",
            "\n",
            "***********Recibo***********\n",
            "Gorjeta: R$ 15.0\n",
            "Valor total da conta: R$ 115.0\n"
          ]
        }
      ]
    },
    {
      "cell_type": "markdown",
      "source": [
        "**Exercício 02: Conversor de Temperatura:**\n",
        "\n",
        "Peça ao usuário para fornecer uma temperatura em graus Celsius. Converta essa temperatura para graus Fahrenheit usando a fórmula F = (C * 9/5) + 32 e exiba o resultado usando print."
      ],
      "metadata": {
        "id": "G8GxuJRh9BNy"
      }
    },
    {
      "cell_type": "code",
      "source": [
        "#Conversor de Celsius para Farenheit\n",
        "#Entrada: Temperatura em Celsius\n",
        "#Saída: Temperatura em Farenheit\n",
        "\n",
        "#Parte 1: Entrada de dados\n",
        "\n",
        "Celsius = float(input(\"Informe a temperatura em Celsius: \"))\n",
        "\n",
        "#Parte 2: Realizando cálculos\n",
        "\n",
        "Farenheit = Celsius*9/5 + 32\n",
        "\n",
        "#Parte 3: Apresentando resultados:\n",
        "\n",
        "print(f\"A temperatura de {Celsius}°C equivale a {Farenheit}°F\")"
      ],
      "metadata": {
        "colab": {
          "base_uri": "https://localhost:8080/"
        },
        "id": "FUX4bnp39ZGb",
        "outputId": "af341369-44dd-4cb7-f503-ab5a2d009f51"
      },
      "execution_count": null,
      "outputs": [
        {
          "output_type": "stream",
          "name": "stdout",
          "text": [
            "Informe a temperatura em Celsius: 35\n",
            "A temperatura de 35.0°C equivale a 95.0°F\n"
          ]
        }
      ]
    },
    {
      "cell_type": "markdown",
      "source": [
        "**Exercício 03: Conversor de Moeda:**\n",
        "\n",
        "Converta uma quantidade de dinheiro de uma moeda para outra. Peça ao usuário para inserir o valor em reais e converta em Dólares"
      ],
      "metadata": {
        "id": "FU8AvR2Ba6Kt"
      }
    },
    {
      "cell_type": "code",
      "source": [
        "#Conversor de reais para dolares\n",
        "\n",
        "#Entradas: Quantia em reais, cotação dolarXreal\n",
        "\n",
        "#Parte 1 - Entrada de dados\n",
        "\n",
        "real = float(input(\"Informe a quantidade em real: \"))\n",
        "cotacao = float(input(\"Informe a cotação atual do dolar: (separar decimais com ponto)\"))\n",
        "\n",
        "#Parte 2 - Cálculos\n",
        "\n",
        "dolar = real/cotacao\n",
        "\n",
        "#Parte 3 - Saída de dados\n",
        "\n",
        "print(f\"A quantia de R$ {real} equivale a US$ {dolar:.2f}, com a cotação de US$ 1.00 = R$ {cotacao}.\")"
      ],
      "metadata": {
        "id": "BCtMxQCOjb7A",
        "outputId": "7c2fa514-ce95-4373-b2bd-ce53fc834432",
        "colab": {
          "base_uri": "https://localhost:8080/"
        }
      },
      "execution_count": 3,
      "outputs": [
        {
          "output_type": "stream",
          "name": "stdout",
          "text": [
            "Informe a quantidade em real: 1000\n",
            "Informe a cotação atual do dolar: (separar decimais com ponto)6.06\n",
            "A quantia de R$ 1000.0 equivale a US$ 165.02, com a cotação de US$ 1.00 = R$ 6.06.\n"
          ]
        }
      ]
    },
    {
      "cell_type": "markdown",
      "source": [
        "**Exercício 04: Calculadora de Desconto de Compras:**\n",
        "\n",
        "Peça ao usuário para inserir o preço de um produto e o percentual de desconto que desejam aplicar. Calcule o valor do desconto e o preço final do produto com desconto, e imprima os resultados."
      ],
      "metadata": {
        "id": "IDHN0MHdkNb3"
      }
    },
    {
      "cell_type": "code",
      "source": [
        "#Calculadora de desconto de compras\n",
        "#Entradas - Valor de um produto e percentual de desconto\n",
        "#Saídas - Valor do desconto e o preço final do produto com o desconto\n",
        "\n",
        "#Parte 1 - entrada de dados\n",
        "produto = float(input(\"Informe o valor do produto: \"))\n",
        "desconto = float(input(\"Informe o percentual de desconto a ser aplicado: \"))\n",
        "\n",
        "#Parte 2 - Cálculos\n",
        "desconto_unitario = desconto/100\n",
        "desconto_valor = produto*desconto_unitario\n",
        "valor_final = produto-desconto_valor\n",
        "\n",
        "#Parte 3 - Resultador\n",
        "print(\"*******RESULTADOS*******\\n\"+f\"Valor do produto: R$ {produto:.2f}\\nPercentual de desconto: {desconto:.2f}%\\nDesconto concedido: R$ {desconto_valor:.2f}\\nValor a ser pago: R${valor_final:.2f}\")\n"
      ],
      "metadata": {
        "id": "ZnBXNYxFkTx4",
        "outputId": "82f91f1f-376f-4c0e-842f-f53921ef53cf",
        "colab": {
          "base_uri": "https://localhost:8080/"
        }
      },
      "execution_count": 6,
      "outputs": [
        {
          "output_type": "stream",
          "name": "stdout",
          "text": [
            "Informe o valor do produto: 1000\n",
            "Informe o percentual de desconto a ser aplicado: 6.1\n",
            "*******RESULTADOS*******\n",
            "Valor do produto: R$ 1000.00\n",
            "Percentual de desconto: 6.10%\n",
            "Desconto concedido: R$ 61.00\n",
            "Valor a ser pago: R$939.00\n"
          ]
        }
      ]
    },
    {
      "cell_type": "markdown",
      "source": [
        "---\n",
        "✅ Parabéns a todos! Vocês progrediram muito neste módulo. Continuem praticando e aprimorando suas habilidades.\n",
        "\n",
        "[Simplifica Treinamentos](https://www.simplificatreinamentos.com.br/)"
      ],
      "metadata": {
        "id": "7HKuMeFognpU"
      }
    }
  ]
}