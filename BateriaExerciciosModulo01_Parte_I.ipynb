{
  "nbformat": 4,
  "nbformat_minor": 0,
  "metadata": {
    "colab": {
      "provenance": [],
      "include_colab_link": true
    },
    "kernelspec": {
      "name": "python3",
      "display_name": "Python 3"
    },
    "language_info": {
      "name": "python"
    }
  },
  "cells": [
    {
      "cell_type": "markdown",
      "metadata": {
        "id": "view-in-github",
        "colab_type": "text"
      },
      "source": [
        "<a href=\"https://colab.research.google.com/github/lipeoak/Simplifica_Python/blob/main/BateriaExerciciosModulo01_Parte_I.ipynb\" target=\"_parent\"><img src=\"https://colab.research.google.com/assets/colab-badge.svg\" alt=\"Open In Colab\"/></a>"
      ]
    },
    {
      "cell_type": "markdown",
      "source": [
        "# Simplifica Python\n",
        "---\n",
        "🌐 **Bateria de Exercícios**\n",
        "\n",
        "Bem-vindo à nossa bateria de exercícios em Python! Esta série de desafios foi criada para ajudá-lo a aprimorar suas habilidades de programação em Python.\n",
        "\n",
        "Nossos exercícios abrangem os tópicos estudados até o momento. Cada exercício é projetado para desafiá-lo a aplicar o que aprendeu, fornecendo instruções claras e exemplos para orientá-lo.\n",
        "\n",
        "Não hesite em explorar, experimentar e testar suas habilidades. A prática constante é a chave para se tornar um programador habilidoso. Divirta-se resolvendo esses exercícios e, acima de tudo, não tenha medo de cometer erros, pois é assim que aprendemos e crescemos como programadores.\n",
        "\n",
        "Boa sorte e vamos começar a resolver esses desafios em Python!"
      ],
      "metadata": {
        "id": "2JZT4w46vTG6"
      }
    },
    {
      "cell_type": "markdown",
      "source": [
        "**Exercício 01: Calculadora de Gorjetas:**\n",
        "\n",
        "Crie um programa que solicite ao usuário o valor da conta em um restaurante e a porcentagem de gorjeta desejada. Calcule o valor da gorjeta e a conta total, em seguida, exiba os resultados com uma mensagem usando a função print."
      ],
      "metadata": {
        "id": "EmcI7ZcX8B9R"
      }
    },
    {
      "cell_type": "code",
      "source": [
        "#Exercício 01:Cálculo de Gorjeta\n",
        "conta = float(input(\"Digite o valor da conta a pagar: R$ \"))\n",
        "percentual_gorjeta = float(input(\"Qual o percentual de gorjeta a ser dado: \"))\n",
        "\n",
        "#Calcular o valor da gorjeta a ser dado para o atendente\n",
        "gorjeta = conta * (percentual_gorjeta / 100)\n",
        "total = conta + gorjeta\n",
        "\n",
        "# Exibe o resultado\n",
        "print(f\"Gorjeta: R$ {gorjeta:.2f}\")\n",
        "print(f\"Conta Total: R$ {total:.2f}\")\n",
        "\n",
        "\n",
        "\n",
        "\n",
        "\n"
      ],
      "metadata": {
        "id": "PUR7PHzREasV",
        "colab": {
          "base_uri": "https://localhost:8080/"
        },
        "outputId": "92f9c575-d55d-4201-de12-4c316f62fdf1"
      },
      "execution_count": null,
      "outputs": [
        {
          "output_type": "stream",
          "name": "stdout",
          "text": [
            "Digite o valor da conta a pagar: R$ 1000\n",
            "Qual o percentual de gorjeta a ser dado: 20\n",
            "Gorjeta: R$ 200.00\n",
            "Conta Total: R$ 1200.00\n"
          ]
        }
      ]
    },
    {
      "cell_type": "code",
      "source": [],
      "metadata": {
        "id": "R4O1_S3pkiei"
      },
      "execution_count": null,
      "outputs": []
    },
    {
      "cell_type": "markdown",
      "source": [
        "**Exercício 02: Conversor de Temperatura:**\n",
        "\n",
        "Peça ao usuário para fornecer uma temperatura em graus Celsius. Converta essa temperatura para graus Fahrenheit usando a fórmula F = (C * 9/5) + 32 e exiba o resultado usando print."
      ],
      "metadata": {
        "id": "G8GxuJRh9BNy"
      }
    },
    {
      "cell_type": "code",
      "source": [
        "#Exercicio 02: conversor de temperatura\n",
        "\n",
        "# Entrada de Dados\n",
        "celsius= float(input(\"Digite a temperaura em graus Celsius: \"))\n",
        "\n",
        "#Processamento:Converter a temperatura\n",
        "fahre = (celsius *9/5) + 32\n",
        "\n",
        "# Imprimir a conversao\n",
        "\n",
        "print(f\"{celsius} C é igual a {fahre}F\")\n",
        "\n",
        "\n",
        "\n"
      ],
      "metadata": {
        "colab": {
          "base_uri": "https://localhost:8080/"
        },
        "id": "FUX4bnp39ZGb",
        "outputId": "1a23c468-6c37-4881-8307-edbb55b056f9"
      },
      "execution_count": null,
      "outputs": [
        {
          "output_type": "stream",
          "name": "stdout",
          "text": [
            "Digite a temperaura em graus Celsius: 30\n",
            "30.0 C é igual a 86.0F\n"
          ]
        }
      ]
    },
    {
      "cell_type": "code",
      "source": [],
      "metadata": {
        "id": "-QmcxGJfnLfl"
      },
      "execution_count": null,
      "outputs": []
    },
    {
      "cell_type": "markdown",
      "source": [
        "**Exercício 03: Conversor de Moeda:**\n",
        "\n",
        "Converta uma quantidade de dinheiro de uma moeda para outra. Peça ao usuário para inserir o valor em reais e converta em Dólares"
      ],
      "metadata": {
        "id": "FU8AvR2Ba6Kt"
      }
    },
    {
      "cell_type": "code",
      "source": [
        "#Conversor de real para dolar\n",
        "\n",
        "valor_real = float(input(\"Digite o valor em real: R$ \"))\n",
        "taxa_cambio = 1/5\n",
        "\n",
        "#Calcular o valor do real em dolar\n",
        "valor_dolar = valor_real * taxa_cambio\n",
        "\n",
        "#Exibe o resultado\n",
        "print(f\"O valor de  R$ {valor_real} vale $ {valor_dolar} \")\n",
        "\n",
        "\n",
        "\n"
      ],
      "metadata": {
        "colab": {
          "base_uri": "https://localhost:8080/"
        },
        "id": "BCtMxQCOjb7A",
        "outputId": "2cc8a3f2-5dc4-4bb7-90f1-8e94ee0e267c"
      },
      "execution_count": null,
      "outputs": [
        {
          "output_type": "stream",
          "name": "stdout",
          "text": [
            "Digite o valor em real: R$ 100\n",
            "O valor de  R$ 100.0 vale $ 20.0 \n"
          ]
        }
      ]
    },
    {
      "cell_type": "markdown",
      "source": [
        "**Exercício 04: Calculadora de Desconto de Compras:**\n",
        "\n",
        "Peça ao usuário para inserir o preço de um produto e o percentual de desconto que desejam aplicar. Calcule o valor do desconto e o preço final do produto com desconto, e imprima os resultados."
      ],
      "metadata": {
        "id": "IDHN0MHdkNb3"
      }
    },
    {
      "cell_type": "code",
      "source": [
        "#Calculadora de Descontos\n",
        "\n",
        "#Entrada de Dados\n",
        "preco_produto = float(input(\"Digite o preço do produto: \"))\n",
        "percentual_desconto = float(input(\"Digite o percentual de desconto: \"))\n",
        "\n",
        "#Calcula o desconto\n",
        "valor_desconto = (percentual_desconto/100) * preco_produto\n",
        "preco_final = preco_produto - valor_desconto\n",
        "\n",
        "#Exibir os resultados\n",
        "print(f\"Valor do desconto é {valor_desconto:.2f}\")\n",
        "print(f\"Preço final com o desconto: {preco_final:.2f}\")\n",
        "\n",
        "\n",
        "\n",
        "\n"
      ],
      "metadata": {
        "colab": {
          "base_uri": "https://localhost:8080/"
        },
        "id": "ZnBXNYxFkTx4",
        "outputId": "38d602b7-a063-459c-e85d-e2f3b04442d7"
      },
      "execution_count": null,
      "outputs": [
        {
          "output_type": "stream",
          "name": "stdout",
          "text": [
            "Digite o preço do produto: 2500\n",
            "Digite o percentual de desconto: 40\n",
            "Valor do desconto é 1000.00\n",
            "Preço final com o desconto: 1500.00\n"
          ]
        }
      ]
    },
    {
      "cell_type": "markdown",
      "source": [
        "---\n",
        "✅ Parabéns a todos! Vocês progrediram muito neste módulo. Continuem praticando e aprimorando suas habilidades.\n",
        "\n",
        "[Simplifica Treinamentos](https://www.simplificatreinamentos.com.br/)"
      ],
      "metadata": {
        "id": "7HKuMeFognpU"
      }
    }
  ]
}