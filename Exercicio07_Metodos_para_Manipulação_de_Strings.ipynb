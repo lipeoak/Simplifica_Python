{
  "nbformat": 4,
  "nbformat_minor": 0,
  "metadata": {
    "colab": {
      "provenance": [],
      "include_colab_link": true
    },
    "kernelspec": {
      "name": "python3",
      "display_name": "Python 3"
    },
    "language_info": {
      "name": "python"
    }
  },
  "cells": [
    {
      "cell_type": "markdown",
      "metadata": {
        "id": "view-in-github",
        "colab_type": "text"
      },
      "source": [
        "<a href=\"https://colab.research.google.com/github/lipeoak/Simplifica_Python/blob/Fundamentos_de_Python/Exercicio07_Metodos_para_Manipula%C3%A7%C3%A3o_de_Strings.ipynb\" target=\"_parent\"><img src=\"https://colab.research.google.com/assets/colab-badge.svg\" alt=\"Open In Colab\"/></a>"
      ]
    },
    {
      "cell_type": "markdown",
      "source": [
        "# Simplifica Python\n",
        "---\n",
        "🤖 ** Métodos para Manipulação de Strings**\n",
        "\n",
        "Iremos aprender nessa aula:\n",
        "\n",
        "✅ split (Dividir)\n",
        "\n",
        "✅ strip (Remove espaços em branco)\n",
        "\n",
        "✅ capitalize (converte primeira letra maiúscula para minúscula)\n",
        "\n",
        "✅ lower (tudo em minúsculo)\n",
        "\n",
        "✅ upper (tudo em maiúsculo)\n",
        "\n",
        "✅ title (Primeira letra de cada palavra em maiúscula)\n",
        "\n"
      ],
      "metadata": {
        "id": "2JZT4w46vTG6"
      }
    },
    {
      "cell_type": "markdown",
      "source": [
        "***Explicação dos métodos***\n",
        "\n",
        "**split()**\n",
        "\n",
        "Serve para dividir uma string em uma lista de substrings.\n",
        "\n",
        "\n",
        "**strip()**\n",
        "\n",
        "Remove os caracteres especificados (por padrão, espaços em branco) do início e do final da string. É útil para limpar strings de espaços em branco, tabulações e quebras de linha.\n",
        "\n",
        "\n",
        "**capitalize()**\n",
        "\n",
        "Converte o primeiro caractere da string para maiúscula e os caracteres restantes para minúscula.\n",
        "\n",
        "**lower()**\n",
        "\n",
        "Converte todos os caracteres da string para minúsculas.\n",
        "\n",
        "**upper()**\n",
        "\n",
        "Converte todos os caracteres da string para maiúsculas.\n",
        "\n",
        "**title()**\n",
        "\n",
        "Converte a primeira letra de cada palavra da string para maiúscula e o restante das letras para minúscula."
      ],
      "metadata": {
        "id": "qlTKcQzU6mFl"
      }
    },
    {
      "cell_type": "code",
      "source": [
        "frase = \"   Eu adoro aprender Python na simplifica treinamentos   \"\n",
        "print(frase)\n",
        "print(frase.split())\n",
        "print(frase.split('Python'))\n",
        "frase = frase.strip()\n",
        "print(frase)\n",
        "print(frase.split())\n",
        "print(frase.split('Python'))\n",
        "print(frase.capitalize())\n",
        "print(frase.upper())\n",
        "print(frase.lower())\n",
        "print(frase.title())\n"
      ],
      "metadata": {
        "id": "Vv0EUz8zZcwS",
        "colab": {
          "base_uri": "https://localhost:8080/"
        },
        "outputId": "d4182be5-b274-4a63-992e-a6ed30cac5ea"
      },
      "execution_count": 7,
      "outputs": [
        {
          "output_type": "stream",
          "name": "stdout",
          "text": [
            "   Eu adoro aprender Python na simplifica treinamentos   \n",
            "['Eu', 'adoro', 'aprender', 'Python', 'na', 'simplifica', 'treinamentos']\n",
            "['   Eu adoro aprender ', ' na simplifica treinamentos   ']\n",
            "Eu adoro aprender Python na simplifica treinamentos\n",
            "['Eu', 'adoro', 'aprender', 'Python', 'na', 'simplifica', 'treinamentos']\n",
            "['Eu adoro aprender ', ' na simplifica treinamentos']\n",
            "Eu adoro aprender python na simplifica treinamentos\n",
            "EU ADORO APRENDER PYTHON NA SIMPLIFICA TREINAMENTOS\n",
            "eu adoro aprender python na simplifica treinamentos\n",
            "Eu Adoro Aprender Python Na Simplifica Treinamentos\n"
          ]
        }
      ]
    },
    {
      "cell_type": "markdown",
      "source": [
        "✅ Encerramos mais uma aula, mas sua jornada na programação está apenas começando. Continue se desafiando e sonhando alto.\n",
        "\n",
        "[Simplifica Treinamentos](https://simplificatreinamentos.com.br)"
      ],
      "metadata": {
        "id": "5FGu-NCiaS0r"
      }
    }
  ]
}